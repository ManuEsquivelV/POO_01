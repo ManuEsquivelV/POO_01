{
  "nbformat": 4,
  "nbformat_minor": 0,
  "metadata": {
    "colab": {
      "provenance": []
    },
    "kernelspec": {
      "name": "python3",
      "display_name": "Python 3"
    },
    "language_info": {
      "name": "python"
    }
  },
  "cells": [
    {
      "cell_type": "markdown",
      "source": [
        "#Clases, herencia y polimorfsimos"
      ],
      "metadata": {
        "id": "4UrFXA_2nprd"
      }
    },
    {
      "cell_type": "markdown",
      "source": [
        "##Definiciones def"
      ],
      "metadata": {
        "id": "QA42V6Aanpy-"
      }
    },
    {
      "cell_type": "code",
      "source": [
        "# Vamos a crear una definición (qué es una función integrada de Python)\n",
        "\n",
        "def Milanesi (a,b,c):\n",
        " x = a+b*c\n",
        " return x"
      ],
      "metadata": {
        "id": "hcbtJJpdnh6-"
      },
      "execution_count": 36,
      "outputs": []
    },
    {
      "cell_type": "code",
      "source": [
        "Milanesi(1,2,3)"
      ],
      "metadata": {
        "colab": {
          "base_uri": "https://localhost:8080/"
        },
        "id": "BS7iVQTupQVT",
        "outputId": "4f7419fc-6f65-41d9-ec18-cb5891c5029c"
      },
      "execution_count": 37,
      "outputs": [
        {
          "output_type": "execute_result",
          "data": {
            "text/plain": [
              "7"
            ]
          },
          "metadata": {},
          "execution_count": 37
        }
      ]
    },
    {
      "cell_type": "code",
      "source": [
        "# Vamos a crear uuna definicón que calcule la inversa de una matriz\n",
        "import numpy as np\n",
        "\n",
        "def Inv_Matrix(M):\n",
        " x= np.linalg.inv(M)\n",
        " return x\n",
        "\n"
      ],
      "metadata": {
        "id": "G_OM0_mtpksK"
      },
      "execution_count": 51,
      "outputs": []
    },
    {
      "cell_type": "code",
      "source": [
        "matrix = np.array([[3, 0, 1],\n",
        "            [1, -2, 2],\n",
        "            [3, 4, -1]])\n",
        "matrix"
      ],
      "metadata": {
        "colab": {
          "base_uri": "https://localhost:8080/"
        },
        "id": "W-Lg6eS-rQBS",
        "outputId": "461caf53-f5ce-461f-ba7b-2c98e34a3499"
      },
      "execution_count": 52,
      "outputs": [
        {
          "output_type": "execute_result",
          "data": {
            "text/plain": [
              "array([[ 3,  0,  1],\n",
              "       [ 1, -2,  2],\n",
              "       [ 3,  4, -1]])"
            ]
          },
          "metadata": {},
          "execution_count": 52
        }
      ]
    },
    {
      "cell_type": "code",
      "source": [
        "Inv_Matrix(matrix)"
      ],
      "metadata": {
        "colab": {
          "base_uri": "https://localhost:8080/"
        },
        "id": "PadptabktjfI",
        "outputId": "03f845e9-1adc-4cc1-8f49-08d91b340f1a"
      },
      "execution_count": 53,
      "outputs": [
        {
          "output_type": "execute_result",
          "data": {
            "text/plain": [
              "array([[ 0.75 , -0.5  , -0.25 ],\n",
              "       [-0.875,  0.75 ,  0.625],\n",
              "       [-1.25 ,  1.5  ,  0.75 ]])"
            ]
          },
          "metadata": {},
          "execution_count": 53
        }
      ]
    },
    {
      "cell_type": "code",
      "source": [],
      "metadata": {
        "id": "r6Uq-nQDvm2W"
      },
      "execution_count": null,
      "outputs": []
    },
    {
      "cell_type": "code",
      "source": [
        "import numpy as np\n",
        "\n",
        "# Definir una matriz\n",
        "matrix = np.array([[3, 0, 1],\n",
        "            [1, -2, 2],\n",
        "            [3, 4, -1]])\n",
        "\n",
        "# Calcular la inversa de la matriz\n",
        "inverse_matrix = np.linalg.inv(matrix)\n",
        "\n",
        "print(\"Matriz original:\")\n",
        "print(matrix)\n",
        "print(\"Matriz inversa:\")\n",
        "print(inverse_matrix)"
      ],
      "metadata": {
        "colab": {
          "base_uri": "https://localhost:8080/"
        },
        "id": "B9YLUh2ZyCOl",
        "outputId": "2bf4398b-20fa-4a81-f78a-8e3a0d28768c"
      },
      "execution_count": 54,
      "outputs": [
        {
          "output_type": "stream",
          "name": "stdout",
          "text": [
            "Matriz original:\n",
            "[[ 3  0  1]\n",
            " [ 1 -2  2]\n",
            " [ 3  4 -1]]\n",
            "Matriz inversa:\n",
            "[[ 0.75  -0.5   -0.25 ]\n",
            " [-0.875  0.75   0.625]\n",
            " [-1.25   1.5    0.75 ]]\n"
          ]
        }
      ]
    }
  ]
}