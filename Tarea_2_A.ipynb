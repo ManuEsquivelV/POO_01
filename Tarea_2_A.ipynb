{
  "nbformat": 4,
  "nbformat_minor": 0,
  "metadata": {
    "colab": {
      "provenance": []
    },
    "kernelspec": {
      "name": "python3",
      "display_name": "Python 3"
    },
    "language_info": {
      "name": "python"
    }
  },
  "cells": [
    {
      "cell_type": "markdown",
      "source": [
        "\n",
        "Tarea\n",
        "Instrucciones:\n",
        "La tarea se entrega individualmente.\n",
        "Leer los lineamientos e instrucciones que se enuentran en Moodle.\n",
        "Sube tu Notebook a tu GitHub\n",
        "La entrega se hace por Moodle compartiendo tu liga a GitHub.\n",
        "Fecha de entrega Martes 26 de septiembre antes de las 20:00hrs\n",
        "Si existiera duda alguna, mandarlas por email."
      ],
      "metadata": {
        "id": "Y2VAiPdk3SMl"
      }
    },
    {
      "cell_type": "code",
      "source": [
        "# Crea una clase que se llame Animal\n",
        "# define un inicializador que contenga dos argumentos (a y b) que asignarás\n",
        "class Animal():\n",
        "  def __init__(self):\n",
        "    print(\"Animal class creada\")\n",
        "  def guess_who(self):\n",
        "    print(\"Soy un animalito\")\n",
        "  def sleep(self):\n",
        "    print(\"Estoy durmiendo\")\n",
        "\n",
        "# Crea una clase heredada que se llame Mascota\n",
        "\n",
        "    # usar super(), (objeto temporal de la superclase) nos permite acceder a métodos de la clase madre\n",
        "\n",
        "    # define tres métodos asociados a Mascota\n",
        "    # Determinar las clases de cada uno de los elementos\n",
        "class mascota:\n",
        "  def hable(self):\n",
        "   return NotImplementedError\n",
        "class Perro(mascota):\n",
        "  def hable(self):\n",
        "    return \"Woof Woof\"\n",
        "class Gato(mascota):\n",
        " def hable(self):\n",
        "  return \"Miau Miau\"\n",
        "class Cerdo(mascota):\n",
        " def hable(self):\n",
        "  return \"Oinc Oinc\"\n",
        "class Pato(mascota):\n",
        " def hable(self):\n",
        "  return \"Cuack Cuack\"\n",
        "\n",
        "mascotas = [Perro(), Gato(), Cerdo(), Pato()]\n",
        "mascotas\n",
        "\n",
        "for mascota in mascotas:\n",
        "  print(mascota.hable())"
      ],
      "metadata": {
        "colab": {
          "base_uri": "https://localhost:8080/"
        },
        "id": "S_JPQ7UR4Ixt",
        "outputId": "e26ac015-52ec-43fa-e1a0-0d17596ea91d"
      },
      "execution_count": null,
      "outputs": [
        {
          "output_type": "stream",
          "name": "stdout",
          "text": [
            "Woof Woof\n",
            "Miau Miau\n",
            "Oinc Oinc\n",
            "Cuack Cuack\n"
          ]
        }
      ]
    },
    {
      "cell_type": "code",
      "source": [
        "# Crea dos clases que tengan asignados nombres de Países.\n",
        "# Para cada clase, define al menos tres características del País considerado: por ejemplo, capital, idioma, etcétera\n",
        "# Define dos variables que sean cursores\n",
        "# Comenta tus resultados\n",
        "\n",
        "# Definición de la primera clase País\n",
        "class Pais1:\n",
        "    def __init__(self, nombre, capital, idioma):\n",
        "        self.nombre = nombre\n",
        "        self.capital = capital\n",
        "        self.idioma = idioma\n",
        "    def obtener_info(self):\n",
        "        return f\"País: {self.nombre}, Capital: {self.capital}, Idioma: {self.idioma}\"\n",
        "\n",
        "# Definición de la segunda clase País\n",
        "class Pais2:\n",
        "    def __init__(self, nombre, capital, poblacion):\n",
        "        self.nombre = nombre\n",
        "        self.capital = capital\n",
        "        self.poblacion = poblacion\n",
        "    def obtener_info(self):\n",
        "        return f\"País: {self.nombre}, Capital: {self.capital}, Población: {self.poblacion}\"\n",
        "\n",
        "# Creación de dos objetos (variables) basados en las clases\n",
        "var1 = Pais1(\"España\", \"Madrid\", \"Español\")\n",
        "var2 = Pais2(\"Francia\", \"París\", \"Francés\")\n",
        "\n",
        "# Acceso a las características de los objetos\n",
        "print(var1.nombre)  # Acceso al nombre del primer país\n",
        "print(var2.capital) # Acceso a la capital del segundo país\n",
        "\n",
        "# Llamada a los métodos de los objetos\n",
        "print(var1.obtener_info())  # Llamada al método de la primera clase\n",
        "print(var2.obtener_info())  # Llamada al método de la segunda clase"
      ],
      "metadata": {
        "colab": {
          "base_uri": "https://localhost:8080/"
        },
        "id": "PrGj8fbH3mQN",
        "outputId": "ca02d782-3d77-428e-e515-2868485b8d2f"
      },
      "execution_count": null,
      "outputs": [
        {
          "output_type": "stream",
          "name": "stdout",
          "text": [
            "España\n",
            "París\n",
            "País: España, Capital: Madrid, Idioma: Español\n",
            "País: Francia, Capital: París, Población: Francés\n"
          ]
        }
      ]
    },
    {
      "cell_type": "code",
      "source": [
        "## Ejemplo de polimorfismo de clase y herencia.\n",
        "# Crea una clase madre que se llame Forma\n",
        "# Crea dos clases heredadas de la clase madre Forma que calcule el área y el perímetro de un círculo\n",
        "# y de un cuadrado, respectivamente.\n",
        "\n",
        "import math\n",
        "# Clase madre \"Forma\"\n",
        "class Forma:\n",
        "    def area(self):\n",
        "        pass\n",
        "    def perimetro(self):\n",
        "        pass\n",
        "\n",
        "# Clase hija \"Circulo\" que hereda de \"Forma\"\n",
        "class Circulo(Forma):\n",
        "    def __init__(self, radio):\n",
        "        self.radio = radio\n",
        "    def area(self):\n",
        "        return math.pi * self.radio ** 2\n",
        "    def perimetro(self):\n",
        "        return 2 * math.pi * self.radio\n",
        "\n",
        "# Clase hija \"Cuadrado\" que hereda de \"Forma\"\n",
        "class Cuadrado(Forma):\n",
        "    def __init__(self, lado):\n",
        "        self.lado = lado\n",
        "    def area(self):\n",
        "        return self.lado ** 2\n",
        "    def perimetro(self):\n",
        "        return 4 * self.lado\n",
        "\n",
        "# Creación de objetos de las clases hijas\n",
        "circulo = Circulo(5)\n",
        "cuadrado = Cuadrado(4)\n",
        "\n",
        "# Cálculo de área y perímetro utilizando el polimorfismo\n",
        "print(f\"Área del círculo: {circulo.area()}\")\n",
        "print(f\"Perímetro del círculo: {circulo.perimetro()}\")\n",
        "print(f\"Área del cuadrado: {cuadrado.area()}\")\n",
        "print(f\"Perímetro del cuadrado: {cuadrado.perimetro()}\")"
      ],
      "metadata": {
        "colab": {
          "base_uri": "https://localhost:8080/"
        },
        "id": "5mIKCk6y3KgP",
        "outputId": "b16df1d2-1794-4894-c0f3-cf814606b008"
      },
      "execution_count": null,
      "outputs": [
        {
          "output_type": "stream",
          "name": "stdout",
          "text": [
            "Área del círculo: 78.53981633974483\n",
            "Perímetro del círculo: 31.41592653589793\n",
            "Área del cuadrado: 16\n",
            "Perímetro del cuadrado: 16\n"
          ]
        }
      ]
    }
  ]
}