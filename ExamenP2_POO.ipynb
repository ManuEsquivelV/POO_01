{
  "nbformat": 4,
  "nbformat_minor": 0,
  "metadata": {
    "colab": {
      "provenance": []
    },
    "kernelspec": {
      "name": "python3",
      "display_name": "Python 3"
    },
    "language_info": {
      "name": "python"
    }
  },
  "cells": [
    {
      "cell_type": "markdown",
      "source": [
        "## Examen\n",
        "\n",
        "* Es necesario seguir los lineamientos ya preestablecidos.\n",
        "\n",
        "* Habrá cero tolerancia al plagio.\n",
        "\n",
        "* Sólo podrás hacer uso de las libretas que tengas, no se permite el uso de ChatGPT.\n",
        "\n",
        "* Todas las soluciones deben presentarse de manera lógica. Se penalizará la ausencia de argumentos y de documentación."
      ],
      "metadata": {
        "id": "FPn1ofmxn3kZ"
      }
    },
    {
      "cell_type": "markdown",
      "source": [
        "**Ejercicio 1:**\n",
        "\n",
        "¿Qué es una clase y por qué es útil? \\\\\n",
        "Define una clase con un ejemplo, dando todas sus características.\n",
        "\n",
        "---"
      ],
      "metadata": {
        "id": "D10OzGjmgckI"
      }
    },
    {
      "cell_type": "markdown",
      "source": [
        "1a.- Una clase es un método dentro de la programación para crear objetos. Es útil ya que este nos brinda atributos y comportaminentos que te permiten obtener herramientas adicionales y ordenar tu código.\n",
        "\n"
      ],
      "metadata": {
        "id": "cO77wa8WxcHo"
      }
    },
    {
      "cell_type": "code",
      "source": [
        "#1b\n",
        "class Estudiante:\n",
        "    # Constructor\n",
        "    def __init__(self, nombre, carrera_universitaria, semestre):\n",
        "        self.nombre = nombre\n",
        "        self.carrera_universitaria = carrera_universitaria\n",
        "        self.semestre = semestre\n",
        "\n",
        "    # Método para presentarse\n",
        "    def presentarse(self):\n",
        "        print(f\"Soy {self.nombre}, estudio {self.carrera_universitaria} y voy en {self.semestre} semestre.\")\n",
        "\n",
        "    # Método para avanzar al siguiente semestre\n",
        "    def avanzar_semestre(self):\n",
        "        self.semestre += 1\n",
        "        print(f\"{self.nombre} ha avanzado al {self.semestre} semestre.\")\n",
        "\n",
        "# Crear objetos de la clase Estudiante\n",
        "estudiante1 = Estudiante(\"Manuel\", \"Finanzas Cuantitativas \", 5)\n",
        "estudiante2 = Estudiante(\"Nicole\", \"Business and Management\", 3)\n",
        "estudiante3 = Estudiante(\"Carlos\", \"Gobierno y Economía\", 7)\n",
        "# Llamar a métodos de los objetos\n",
        "estudiante1.presentarse()\n",
        "estudiante2.presentarse()\n",
        "estudiante3.presentarse()\n"
      ],
      "metadata": {
        "colab": {
          "base_uri": "https://localhost:8080/"
        },
        "id": "QoEhEZenzD_z",
        "outputId": "4259fd61-41e5-457f-e9bc-f6bd9eb2a312"
      },
      "execution_count": 51,
      "outputs": [
        {
          "output_type": "stream",
          "name": "stdout",
          "text": [
            "Soy Manuel, estudio Finanzas Cuantitativas  y voy en 5 semestre.\n",
            "Soy Nicole, estudio Business and Management y voy en 3 semestre.\n",
            "Soy Carlos, estudio Gobierno y Economía y voy en 7 semestre.\n"
          ]
        }
      ]
    },
    {
      "cell_type": "markdown",
      "source": [
        "**Ejercicio 2:**\n",
        "\n",
        "En Python, un **constructor** es un método especial que se llama automáticamente cuando se crea un objeto. Se utiliza para inicializar los atributos del objeto y realizar cualquier tarea de configuración necesaria antes de su uso. \\\\\n",
        "\n",
        "Para este ejercicio contesta las siguientes preguntas:\n",
        "\n",
        "\n",
        "1.   ¿Cuál es la sintaxis para definir un constructor dentro de una clase?\n",
        "2.   Considera el siguiente código: \\\\\n",
        "\n",
        "![constructor.png](data:image/png;base64,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)\n",
        "\n",
        "\\\\\n",
        "La clase 'Human' tiene un constructor que toma dos parametros, ¿cuáles son?\n",
        "\n"
      ],
      "metadata": {
        "id": "caEiR85Lek1e"
      }
    },
    {
      "cell_type": "markdown",
      "source": [
        "2a.- Para definir un constructor dentro de una clase se utiliza __init__. El constructor es un método especial que se llama automáticamente cuando se crea una instancia o parámetro.\n",
        "\n",
        "2b.-\n",
        "1.   **classhuman** define la clase sobre la que quieres trabajar.\n",
        "2.    **__init__** es el nombre del constructor.\n",
        "3.    **self** es el primer parámetro del constructor, puedas acceder a los atributos dentro de la clase.\n",
        "4.    **self.legs** y **self.arms** son otras instncias o parámetros en el constructor para lograr ciertos objetivos dentro de tu clase.\n",
        "\n",
        "2c.- Los parámetros que toma en cuenta la clase \"HUMAN\" son  **self.legs** y **self.arms**\n"
      ],
      "metadata": {
        "id": "jFHho0cE2NX2"
      }
    },
    {
      "cell_type": "markdown",
      "source": [
        "3. Crea dos atributos (definiciones y polimorfismos) asociados a la clase 'Human´.\n",
        "\n",
        "---"
      ],
      "metadata": {
        "id": "18IVZ8IJ34qb"
      }
    },
    {
      "cell_type": "code",
      "source": [
        "#2d\n",
        "class Human:\n",
        "    def __init__(self, nombre, edad, genero, nacionalidad):\n",
        "        self.nombre = nombre\n",
        "        self.edad = edad\n",
        "        self.genero = genero\n",
        "        self.nacionalidad = nacionalidad\n",
        "\n",
        "# Crear un objeto de la clase Human con los nuevos atributos\n",
        "persona1 = Human(\"Manuel\", 21, \"Masculino\", \"Mexicano\")\n",
        "\n",
        "# Acceder a los atributos de la instancia\n",
        "print(f\"Nombre: {persona1.nombre}\")\n",
        "print(f\"Edad: {persona1.edad}\")\n",
        "print(f\"Género: {persona1.genero}\")\n",
        "print(f\"Nacionalidad: {persona1.nacionalidad}\")"
      ],
      "metadata": {
        "colab": {
          "base_uri": "https://localhost:8080/"
        },
        "id": "C1-CUO4_5v1c",
        "outputId": "14da7d20-35e4-4c98-e663-8a790d606a27"
      },
      "execution_count": 52,
      "outputs": [
        {
          "output_type": "stream",
          "name": "stdout",
          "text": [
            "Nombre: Manuel\n",
            "Edad: 21\n",
            "Género: Masculino\n",
            "Nacionalidad: Mexicano\n"
          ]
        }
      ]
    },
    {
      "cell_type": "markdown",
      "source": [
        "**Ejercicio 3:**\n",
        "\n",
        "Indica si las siguientes afirmaciones son verdaderas o falsas:\n",
        "\n",
        "\n",
        "\n",
        "*   El primer parámetro del método '__ init() __' es siempre 'self' , que se refiere a la instancia de la clase que se está creando. Se pasa automáticamente al constructor cuando se instancia el objeto.\n",
        "*   Después de 'self', puedes definir cualquier otro parámetro necesario para inicializar los atributos del objeto.\n",
        "*   Cuando añades la función '__ init ()  __' , la clase heredada ya no hereda la función ' __ init () __ ' de la clase madre.\n",
        "*   En la programación orientada a objetos, las clases pueden heredar atributos y métodos de otras clases.\n",
        "*  Cuando hablamos de polimorfismos en Python, diferentes clases pueden ser tratadas como instancias de la misma superclase, independientemente de cómo implementen el mismo método.\n",
        "\n",
        "---"
      ],
      "metadata": {
        "id": "t3EQFoKfuUII"
      }
    },
    {
      "cell_type": "markdown",
      "source": [
        "\n",
        "1.   Verdadero. \"self\" es utilizado **siempre** para referirse al objeto que se está creando y debe ser el primer parámetro en el constructor.\n",
        "\n",
        "2. Verdadero. Después de 'self', puedes agregar cualquier número de parámetros dependiendo del objetivo de la clase.\n",
        "\n",
        "3. Falso. si se puede heredar un método __init__ en una subclase llamando al __init__ de la clase madre para que la subclase inicialice sus propios atributos y herede la inicialización de la clase madre.\n",
        "\n",
        "4. Verdadero. la herencia permite que una clase herede atributos y métodos de otra clase para poder reutilizar o aprovechar las carácteristicas de un código.\n",
        "\n",
        "\n",
        "5. Verdadero. El polimorfismo se refiere a la capacidad de diferentes clases para proporcionar implementaciones diferentes para el mismo método como dice la respuesta de la pregunta anterior se logra mediante la herencia de atributos y métodos con el mismo nombre en clases diferentes.\n"
      ],
      "metadata": {
        "id": "fdVoMqH36F9o"
      }
    },
    {
      "cell_type": "markdown",
      "source": [
        "**Ejercicio 4:** A partir de un diccionario, crea un DataFrame (que llamarás **precios_muestra**) que consista de dos columnas y que tenga 12 valores **flotantes** que eligirás de manera aleatoria en el intervalo (8,13). Etiqueta del 1 al 12 y llama a la columna de etiquetas Mes.\n",
        "\n",
        "1.- Construye una función que calcule los rendimientos simples de cada columna.\n",
        "\n",
        "2.- Las desviaciones estadísticas de los rendimientos ayudan a calcular la volatilidad del portafolio:\n",
        "$$\\text{desviaciones}=(\\text{rendimientos}-\\text{media}(\\text{rendimientos}))^2.$$\n",
        "Crea una función que calcule la media de las desviaciones y luego la volatilidad de tu portafolio (raíz cuadrada de la media de las desviaciones).\n",
        "\n",
        "3.- Anualizamos la volatilidad escalándola (multiplicándola) por la raíz cuadrada del número de períodos por observación.\n",
        "\n",
        "Por lo tanto, para anualizar la volatilidad de una serie mensual, la multiplicamos por la raíz cuadrada de 12. Muestra la serie de la volatilidad anualizada.\n",
        "\n",
        "4.- Realiza una gráfica de barras para los rendimientos y una gráfica en líneas para los precios.\n",
        "\n",
        "5.- Calcula los rendimientos compuestos para cada columna y después anualiza los rendimientos.\n",
        "\n",
        "---"
      ],
      "metadata": {
        "id": "3HrFIodC4upj"
      }
    },
    {
      "cell_type": "code",
      "source": [
        "import pandas as pd\n",
        "import numpy as np\n",
        "import random\n",
        "import matplotlib.pyplot as plt\n",
        "\n",
        "# Crear el DataFrame con valores aleatorios\n",
        "valores = [random.uniform(8, 13) for _ in range(12)]\n",
        "precios_muestra = pd.DataFrame({'Mes': range(1, 13), 'Precio': valores})\n",
        "\n",
        "# Calcular los rendimientos simples\n",
        "def calcular_rendimientos(datos):\n",
        "    datos['Rendimiento'] = datos['Precio'].pct_change() * 100\n",
        "    return datos\n",
        "\n",
        "precios_muestra = calcular_rendimientos(precios_muestra)\n",
        "\n",
        "# Calcular la volatilidad anualizada\n",
        "def calcular_volatilidad_anual(datos):\n",
        "    desviaciones = (datos['Rendimiento'] - datos['Rendimiento'].mean())**2\n",
        "    volatilidad = np.sqrt(desviaciones.mean() * 12)\n",
        "    return volatilidad\n",
        "\n",
        "volatilidad_anual = calcular_volatilidad_anual(precios_muestra)\n",
        "\n",
        "# Gráficos de barras y líneas\n",
        "fig, ax = plt.subplots(2, 1, figsize=(8, 6))\n",
        "precios_muestra.plot(x='Mes', y='Rendimiento', kind='bar', ax=ax[0], legend=False)\n",
        "precios_muestra.plot(x='Mes', y='Precio', kind='line', ax=ax[1])\n",
        "ax[0].set_title('Rendimientos Mensuales')\n",
        "ax[1].set_title('Precios Mensuales')\n",
        "plt.tight_layout()\n",
        "plt.show()\n",
        "\n",
        "# Calcular rendimientos compuestos y anualizar\n",
        "def calcular_rendimientos_anualizados(datos):\n",
        "    rendimientos_compuestos = (datos['Rendimiento'] / 100 + 1).cumprod()\n",
        "    rendimiento_anualizado = (rendimientos_compuestos.iloc[-1])**(12/len(datos)) - 1\n",
        "    return rendimiento_anualizado\n",
        "\n",
        "rendimiento_anual = calcular_rendimientos_anualizados(precios_muestra)\n",
        "print(f'Rendimiento Anual: {rendimiento_anual:.2%}')"
      ],
      "metadata": {
        "colab": {
          "base_uri": "https://localhost:8080/",
          "height": 624
        },
        "id": "heojfJvh_0dS",
        "outputId": "bafd5c3d-f33d-4120-fe6d-5b296133b1e0"
      },
      "execution_count": 53,
      "outputs": [
        {
          "output_type": "display_data",
          "data": {
            "text/plain": [
              "<Figure size 800x600 with 2 Axes>"
            ],
            "image/png": "[encoded data removed]"
          },
          "metadata": {}
        },
        {
          "output_type": "stream",
          "name": "stdout",
          "text": [
            "Rendimiento Anual: -22.70%\n"
          ]
        }
      ]
    },
    {
      "cell_type": "markdown",
      "source": [
        "**Ejercicio 5:** Carga dos tickers y realiza los pasos del ejercicio anterior usando los tickers que elijas. Recuerda tomar en cuenta la ventana de tiempo que manejarás. Realiza un análisis estadístico (estadística descriptiva, histogramas y gráficas de series de tiempo)."
      ],
      "metadata": {
        "id": "HihHEDNk9RpH"
      }
    },
    {
      "cell_type": "code",
      "source": [
        "import numpy as np\n",
        "import pandas as pd\n",
        "\n",
        "import datetime\n",
        "import matplotlib.pyplot as plt\n",
        "\n",
        "from pandas.plotting import scatter_matrix\n"
      ],
      "metadata": {
        "id": "AfQrxKav_1EB"
      },
      "execution_count": 54,
      "outputs": []
    },
    {
      "cell_type": "code",
      "source": [
        "import yfinance as yf\n",
        "!pip install yfinance"
      ],
      "metadata": {
        "colab": {
          "base_uri": "https://localhost:8080/"
        },
        "id": "ZIOuTELe_8BR",
        "outputId": "3bae291f-864d-4164-a8bf-2f107dc694f4"
      },
      "execution_count": 55,
      "outputs": [
        {
          "output_type": "stream",
          "name": "stdout",
          "text": [
            "Requirement already satisfied: yfinance in /usr/local/lib/python3.10/dist-packages (0.2.31)\n",
            "Requirement already satisfied: pandas>=1.3.0 in /usr/local/lib/python3.10/dist-packages (from yfinance) (1.5.3)\n",
            "Requirement already satisfied: numpy>=1.16.5 in /usr/local/lib/python3.10/dist-packages (from yfinance) (1.23.5)\n",
            "Requirement already satisfied: requests>=2.31 in /usr/local/lib/python3.10/dist-packages (from yfinance) (2.31.0)\n",
            "Requirement already satisfied: multitasking>=0.0.7 in /usr/local/lib/python3.10/dist-packages (from yfinance) (0.0.11)\n",
            "Requirement already satisfied: lxml>=4.9.1 in /usr/local/lib/python3.10/dist-packages (from yfinance) (4.9.3)\n",
            "Requirement already satisfied: appdirs>=1.4.4 in /usr/local/lib/python3.10/dist-packages (from yfinance) (1.4.4)\n",
            "Requirement already satisfied: pytz>=2022.5 in /usr/local/lib/python3.10/dist-packages (from yfinance) (2023.3.post1)\n",
            "Requirement already satisfied: frozendict>=2.3.4 in /usr/local/lib/python3.10/dist-packages (from yfinance) (2.3.8)\n",
            "Requirement already satisfied: peewee>=3.16.2 in /usr/local/lib/python3.10/dist-packages (from yfinance) (3.17.0)\n",
            "Requirement already satisfied: beautifulsoup4>=4.11.1 in /usr/local/lib/python3.10/dist-packages (from yfinance) (4.11.2)\n",
            "Requirement already satisfied: html5lib>=1.1 in /usr/local/lib/python3.10/dist-packages (from yfinance) (1.1)\n",
            "Requirement already satisfied: soupsieve>1.2 in /usr/local/lib/python3.10/dist-packages (from beautifulsoup4>=4.11.1->yfinance) (2.5)\n",
            "Requirement already satisfied: six>=1.9 in /usr/local/lib/python3.10/dist-packages (from html5lib>=1.1->yfinance) (1.16.0)\n",
            "Requirement already satisfied: webencodings in /usr/local/lib/python3.10/dist-packages (from html5lib>=1.1->yfinance) (0.5.1)\n",
            "Requirement already satisfied: python-dateutil>=2.8.1 in /usr/local/lib/python3.10/dist-packages (from pandas>=1.3.0->yfinance) (2.8.2)\n",
            "Requirement already satisfied: charset-normalizer<4,>=2 in /usr/local/lib/python3.10/dist-packages (from requests>=2.31->yfinance) (3.3.0)\n",
            "Requirement already satisfied: idna<4,>=2.5 in /usr/local/lib/python3.10/dist-packages (from requests>=2.31->yfinance) (3.4)\n",
            "Requirement already satisfied: urllib3<3,>=1.21.1 in /usr/local/lib/python3.10/dist-packages (from requests>=2.31->yfinance) (2.0.7)\n",
            "Requirement already satisfied: certifi>=2017.4.17 in /usr/local/lib/python3.10/dist-packages (from requests>=2.31->yfinance) (2023.7.22)\n"
          ]
        }
      ]
    },
    {
      "cell_type": "code",
      "source": [
        "fecha_inicial = \"2021-12-31\"\n",
        "fecha_final = \"2023-10-05\""
      ],
      "metadata": {
        "id": "A3uXYzhP_-xC"
      },
      "execution_count": 56,
      "outputs": []
    },
    {
      "cell_type": "code",
      "source": [
        "SP500 = yf.download(\"^GSPC\", fecha_inicial, fecha_final)\n",
        "dowjow = yf.download(\"^DJI\", fecha_inicial, fecha_final)"
      ],
      "metadata": {
        "colab": {
          "base_uri": "https://localhost:8080/"
        },
        "id": "ehe8wJDnAF2b",
        "outputId": "40df7c9c-5e6b-4c1c-f72a-228901c61cf1"
      },
      "execution_count": 57,
      "outputs": [
        {
          "output_type": "stream",
          "name": "stdout",
          "text": [
            "[*********************100%%**********************]  1 of 1 completed\n",
            "[*********************100%%**********************]  1 of 1 completed\n"
          ]
        }
      ]
    },
    {
      "cell_type": "code",
      "source": [
        "tickers = [\"^GSPC\", \"^DJI\"]\n",
        "\n",
        "datos = yf.download(tickers, fecha_inicial, fecha_final)[\"Close\"]\n",
        "datos"
      ],
      "metadata": {
        "colab": {
          "base_uri": "https://localhost:8080/",
          "height": 472
        },
        "id": "Tz6ZcqFcA6zR",
        "outputId": "12aedc02-4159-4fc6-ed54-1ce1883fedf5"
      },
      "execution_count": 58,
      "outputs": [
        {
          "output_type": "stream",
          "name": "stdout",
          "text": [
            "[*********************100%%**********************]  2 of 2 completed\n"
          ]
        },
        {
          "output_type": "execute_result",
          "data": {
            "text/plain": [
              "                    ^DJI        ^GSPC\n",
              "Date                                 \n",
              "2021-12-31  36338.300781  4766.180176\n",
              "2022-01-03  36585.058594  4796.560059\n",
              "2022-01-04  36799.648438  4793.540039\n",
              "2022-01-05  36407.109375  4700.580078\n",
              "2022-01-06  36236.468750  4696.049805\n",
              "...                  ...          ...\n",
              "2023-09-28  33666.339844  4299.700195\n",
              "2023-09-29  33507.500000  4288.049805\n",
              "2023-10-02  33433.351562  4288.390137\n",
              "2023-10-03  33002.378906  4229.450195\n",
              "2023-10-04  33129.550781  4263.750000\n",
              "\n",
              "[442 rows x 2 columns]"
            ],
            "text/html": [
              "\n",
              "  <div id=\"df-87524509-63e1-41c2-99a0-56c2631bf864\" class=\"colab-df-container\">\n",
              "    <div>\n",
              "<style scoped>\n",
              "    .dataframe tbody tr th:only-of-type {\n",
              "        vertical-align: middle;\n",
              "    }\n",
              "\n",
              "    .dataframe tbody tr th {\n",
              "        vertical-align: top;\n",
              "    }\n",
              "\n",
              "    .dataframe thead th {\n",
              "        text-align: right;\n",
              "    }\n",
              "</style>\n",
              "<table border=\"1\" class=\"dataframe\">\n",
              "  <thead>\n",
              "    <tr style=\"text-align: right;\">\n",
              "      <th></th>\n",
              "      <th>^DJI</th>\n",
              "      <th>^GSPC</th>\n",
              "    </tr>\n",
              "    <tr>\n",
              "      <th>Date</th>\n",
              "      <th></th>\n",
              "      <th></th>\n",
              "    </tr>\n",
              "  </thead>\n",
              "  <tbody>\n",
              "    <tr>\n",
              "      <th>2021-12-31</th>\n",
              "      <td>36338.300781</td>\n",
              "      <td>4766.180176</td>\n",
              "    </tr>\n",
              "    <tr>\n",
              "      <th>2022-01-03</th>\n",
              "      <td>36585.058594</td>\n",
              "      <td>4796.560059</td>\n",
              "    </tr>\n",
              "    <tr>\n",
              "      <th>2022-01-04</th>\n",
              "      <td>36799.648438</td>\n",
              "      <td>4793.540039</td>\n",
              "    </tr>\n",
              "    <tr>\n",
              "      <th>2022-01-05</th>\n",
              "      <td>36407.109375</td>\n",
              "      <td>4700.580078</td>\n",
              "    </tr>\n",
              "    <tr>\n",
              "      <th>2022-01-06</th>\n",
              "      <td>36236.468750</td>\n",
              "      <td>4696.049805</td>\n",
              "    </tr>\n",
              "    <tr>\n",
              "      <th>...</th>\n",
              "      <td>...</td>\n",
              "      <td>...</td>\n",
              "    </tr>\n",
              "    <tr>\n",
              "      <th>2023-09-28</th>\n",
              "      <td>33666.339844</td>\n",
              "      <td>4299.700195</td>\n",
              "    </tr>\n",
              "    <tr>\n",
              "      <th>2023-09-29</th>\n",
              "      <td>33507.500000</td>\n",
              "      <td>4288.049805</td>\n",
              "    </tr>\n",
              "    <tr>\n",
              "      <th>2023-10-02</th>\n",
              "      <td>33433.351562</td>\n",
              "      <td>4288.390137</td>\n",
              "    </tr>\n",
              "    <tr>\n",
              "      <th>2023-10-03</th>\n",
              "      <td>33002.378906</td>\n",
              "      <td>4229.450195</td>\n",
              "    </tr>\n",
              "    <tr>\n",
              "      <th>2023-10-04</th>\n",
              "      <td>33129.550781</td>\n",
              "      <td>4263.750000</td>\n",
              "    </tr>\n",
              "  </tbody>\n",
              "</table>\n",
              "<p>442 rows × 2 columns</p>\n",
              "</div>\n",
              "    <div class=\"colab-df-buttons\">\n",
              "\n",
              "  <div class=\"colab-df-container\">\n",
              "    <button class=\"colab-df-convert\" onclick=\"convertToInteractive('df-87524509-63e1-41c2-99a0-56c2631bf864')\"\n",
              "            title=\"Convert this dataframe to an interactive table.\"\n",
              "            style=\"display:none;\">\n",
              "\n",
              "  <svg xmlns=\"http://www.w3.org/2000/svg\" height=\"24px\" viewBox=\"0 -960 960 960\">\n",
              "    <path d=\"M120-120v-720h720v720H120Zm60-500h600v-160H180v160Zm220 220h160v-160H400v160Zm0 220h160v-160H400v160ZM180-400h160v-160H180v160Zm440 0h160v-160H620v160ZM180-180h160v-160H180v160Zm440 0h160v-160H620v160Z\"/>\n",
              "  </svg>\n",
              "    </button>\n",
              "\n",
              "  <style>\n",
              "    .colab-df-container {\n",
              "      display:flex;\n",
              "      gap: 12px;\n",
              "    }\n",
              "\n",
              "    .colab-df-convert {\n",
              "      background-color: #E8F0FE;\n",
              "      border: none;\n",
              "      border-radius: 50%;\n",
              "      cursor: pointer;\n",
              "      display: none;\n",
              "      fill: #1967D2;\n",
              "      height: 32px;\n",
              "      padding: 0 0 0 0;\n",
              "      width: 32px;\n",
              "    }\n",
              "\n",
              "    .colab-df-convert:hover {\n",
              "      background-color: #E2EBFA;\n",
              "      box-shadow: 0px 1px 2px rgba(60, 64, 67, 0.3), 0px 1px 3px 1px rgba(60, 64, 67, 0.15);\n",
              "      fill: #174EA6;\n",
              "    }\n",
              "\n",
              "    .colab-df-buttons div {\n",
              "      margin-bottom: 4px;\n",
              "    }\n",
              "\n",
              "    [theme=dark] .colab-df-convert {\n",
              "      background-color: #3B4455;\n",
              "      fill: #D2E3FC;\n",
              "    }\n",
              "\n",
              "    [theme=dark] .colab-df-convert:hover {\n",
              "      background-color: #434B5C;\n",
              "      box-shadow: 0px 1px 3px 1px rgba(0, 0, 0, 0.15);\n",
              "      filter: drop-shadow(0px 1px 2px rgba(0, 0, 0, 0.3));\n",
              "      fill: #FFFFFF;\n",
              "    }\n",
              "  </style>\n",
              "\n",
              "    <script>\n",
              "      const buttonEl =\n",
              "        document.querySelector('#df-87524509-63e1-41c2-99a0-56c2631bf864 button.colab-df-convert');\n",
              "      buttonEl.style.display =\n",
              "        google.colab.kernel.accessAllowed ? 'block' : 'none';\n",
              "\n",
              "      async function convertToInteractive(key) {\n",
              "        const element = document.querySelector('#df-87524509-63e1-41c2-99a0-56c2631bf864');\n",
              "        const dataTable =\n",
              "          await google.colab.kernel.invokeFunction('convertToInteractive',\n",
              "                                                    [key], {});\n",
              "        if (!dataTable) return;\n",
              "\n",
              "        const docLinkHtml = 'Like what you see? Visit the ' +\n",
              "          '<a target=\"_blank\" href=https://colab.research.google.com/notebooks/data_table.ipynb>data table notebook</a>'\n",
              "          + ' to learn more about interactive tables.';\n",
              "        element.innerHTML = '';\n",
              "        dataTable['output_type'] = 'display_data';\n",
              "        await google.colab.output.renderOutput(dataTable, element);\n",
              "        const docLink = document.createElement('div');\n",
              "        docLink.innerHTML = docLinkHtml;\n",
              "        element.appendChild(docLink);\n",
              "      }\n",
              "    </script>\n",
              "  </div>\n",
              "\n",
              "\n",
              "<div id=\"df-bde28a70-2875-4d26-b1ae-4b035ca0e0f3\">\n",
              "  <button class=\"colab-df-quickchart\" onclick=\"quickchart('df-bde28a70-2875-4d26-b1ae-4b035ca0e0f3')\"\n",
              "            title=\"Suggest charts.\"\n",
              "            style=\"display:none;\">\n",
              "\n",
              "<svg xmlns=\"http://www.w3.org/2000/svg\" height=\"24px\"viewBox=\"0 0 24 24\"\n",
              "     width=\"24px\">\n",
              "    <g>\n",
              "        <path d=\"M19 3H5c-1.1 0-2 .9-2 2v14c0 1.1.9 2 2 2h14c1.1 0 2-.9 2-2V5c0-1.1-.9-2-2-2zM9 17H7v-7h2v7zm4 0h-2V7h2v10zm4 0h-2v-4h2v4z\"/>\n",
              "    </g>\n",
              "</svg>\n",
              "  </button>\n",
              "\n",
              "<style>\n",
              "  .colab-df-quickchart {\n",
              "      --bg-color: #E8F0FE;\n",
              "      --fill-color: #1967D2;\n",
              "      --hover-bg-color: #E2EBFA;\n",
              "      --hover-fill-color: #174EA6;\n",
              "      --disabled-fill-color: #AAA;\n",
              "      --disabled-bg-color: #DDD;\n",
              "  }\n",
              "\n",
              "  [theme=dark] .colab-df-quickchart {\n",
              "      --bg-color: #3B4455;\n",
              "      --fill-color: #D2E3FC;\n",
              "      --hover-bg-color: #434B5C;\n",
              "      --hover-fill-color: #FFFFFF;\n",
              "      --disabled-bg-color: #3B4455;\n",
              "      --disabled-fill-color: #666;\n",
              "  }\n",
              "\n",
              "  .colab-df-quickchart {\n",
              "    background-color: var(--bg-color);\n",
              "    border: none;\n",
              "    border-radius: 50%;\n",
              "    cursor: pointer;\n",
              "    display: none;\n",
              "    fill: var(--fill-color);\n",
              "    height: 32px;\n",
              "    padding: 0;\n",
              "    width: 32px;\n",
              "  }\n",
              "\n",
              "  .colab-df-quickchart:hover {\n",
              "    background-color: var(--hover-bg-color);\n",
              "    box-shadow: 0 1px 2px rgba(60, 64, 67, 0.3), 0 1px 3px 1px rgba(60, 64, 67, 0.15);\n",
              "    fill: var(--button-hover-fill-color);\n",
              "  }\n",
              "\n",
              "  .colab-df-quickchart-complete:disabled,\n",
              "  .colab-df-quickchart-complete:disabled:hover {\n",
              "    background-color: var(--disabled-bg-color);\n",
              "    fill: var(--disabled-fill-color);\n",
              "    box-shadow: none;\n",
              "  }\n",
              "\n",
              "  .colab-df-spinner {\n",
              "    border: 2px solid var(--fill-color);\n",
              "    border-color: transparent;\n",
              "    border-bottom-color: var(--fill-color);\n",
              "    animation:\n",
              "      spin 1s steps(1) infinite;\n",
              "  }\n",
              "\n",
              "  @keyframes spin {\n",
              "    0% {\n",
              "      border-color: transparent;\n",
              "      border-bottom-color: var(--fill-color);\n",
              "      border-left-color: var(--fill-color);\n",
              "    }\n",
              "    20% {\n",
              "      border-color: transparent;\n",
              "      border-left-color: var(--fill-color);\n",
              "      border-top-color: var(--fill-color);\n",
              "    }\n",
              "    30% {\n",
              "      border-color: transparent;\n",
              "      border-left-color: var(--fill-color);\n",
              "      border-top-color: var(--fill-color);\n",
              "      border-right-color: var(--fill-color);\n",
              "    }\n",
              "    40% {\n",
              "      border-color: transparent;\n",
              "      border-right-color: var(--fill-color);\n",
              "      border-top-color: var(--fill-color);\n",
              "    }\n",
              "    60% {\n",
              "      border-color: transparent;\n",
              "      border-right-color: var(--fill-color);\n",
              "    }\n",
              "    80% {\n",
              "      border-color: transparent;\n",
              "      border-right-color: var(--fill-color);\n",
              "      border-bottom-color: var(--fill-color);\n",
              "    }\n",
              "    90% {\n",
              "      border-color: transparent;\n",
              "      border-bottom-color: var(--fill-color);\n",
              "    }\n",
              "  }\n",
              "</style>\n",
              "\n",
              "  <script>\n",
              "    async function quickchart(key) {\n",
              "      const quickchartButtonEl =\n",
              "        document.querySelector('#' + key + ' button');\n",
              "      quickchartButtonEl.disabled = true;  // To prevent multiple clicks.\n",
              "      quickchartButtonEl.classList.add('colab-df-spinner');\n",
              "      try {\n",
              "        const charts = await google.colab.kernel.invokeFunction(\n",
              "            'suggestCharts', [key], {});\n",
              "      } catch (error) {\n",
              "        console.error('Error during call to suggestCharts:', error);\n",
              "      }\n",
              "      quickchartButtonEl.classList.remove('colab-df-spinner');\n",
              "      quickchartButtonEl.classList.add('colab-df-quickchart-complete');\n",
              "    }\n",
              "    (() => {\n",
              "      let quickchartButtonEl =\n",
              "        document.querySelector('#df-bde28a70-2875-4d26-b1ae-4b035ca0e0f3 button');\n",
              "      quickchartButtonEl.style.display =\n",
              "        google.colab.kernel.accessAllowed ? 'block' : 'none';\n",
              "    })();\n",
              "  </script>\n",
              "</div>\n",
              "    </div>\n",
              "  </div>\n"
            ]
          },
          "metadata": {},
          "execution_count": 58
        }
      ]
    },
    {
      "cell_type": "code",
      "source": [
        "datos.std()"
      ],
      "metadata": {
        "colab": {
          "base_uri": "https://localhost:8080/"
        },
        "id": "RQloZMInBArt",
        "outputId": "380624f9-1487-4a41-aea0-fe573e6d9ebb"
      },
      "execution_count": 59,
      "outputs": [
        {
          "output_type": "execute_result",
          "data": {
            "text/plain": [
              "^DJI     1493.335570\n",
              "^GSPC     267.365998\n",
              "dtype: float64"
            ]
          },
          "metadata": {},
          "execution_count": 59
        }
      ]
    },
    {
      "cell_type": "code",
      "source": [
        "varianza = datos.std()**2\n",
        "varianza"
      ],
      "metadata": {
        "colab": {
          "base_uri": "https://localhost:8080/"
        },
        "id": "Uz-clrMABF0V",
        "outputId": "a8969971-3941-4dba-9165-fb887850c82e"
      },
      "execution_count": 60,
      "outputs": [
        {
          "output_type": "execute_result",
          "data": {
            "text/plain": [
              "^DJI     2.230051e+06\n",
              "^GSPC    7.148458e+04\n",
              "dtype: float64"
            ]
          },
          "metadata": {},
          "execution_count": 60
        }
      ]
    },
    {
      "cell_type": "code",
      "source": [
        "rendimientos = datos.pct_change()\n",
        "rendimientos"
      ],
      "metadata": {
        "colab": {
          "base_uri": "https://localhost:8080/",
          "height": 455
        },
        "id": "CJTMJusWBJBd",
        "outputId": "af9439c6-5dc5-46cd-fc1c-c5fda5ffe59a"
      },
      "execution_count": 61,
      "outputs": [
        {
          "output_type": "execute_result",
          "data": {
            "text/plain": [
              "                ^DJI     ^GSPC\n",
              "Date                          \n",
              "2021-12-31       NaN       NaN\n",
              "2022-01-03  0.006791  0.006374\n",
              "2022-01-04  0.005866 -0.000630\n",
              "2022-01-05 -0.010667 -0.019393\n",
              "2022-01-06 -0.004687 -0.000964\n",
              "...              ...       ...\n",
              "2023-09-28  0.003460  0.005893\n",
              "2023-09-29 -0.004718 -0.002710\n",
              "2023-10-02 -0.002213  0.000079\n",
              "2023-10-03 -0.012891 -0.013744\n",
              "2023-10-04  0.003853  0.008110\n",
              "\n",
              "[442 rows x 2 columns]"
            ],
            "text/html": [
              "\n",
              "  <div id=\"df-8e5d7a41-f1dc-4a73-b045-d8569d2db786\" class=\"colab-df-container\">\n",
              "    <div>\n",
              "<style scoped>\n",
              "    .dataframe tbody tr th:only-of-type {\n",
              "        vertical-align: middle;\n",
              "    }\n",
              "\n",
              "    .dataframe tbody tr th {\n",
              "        vertical-align: top;\n",
              "    }\n",
              "\n",
              "    .dataframe thead th {\n",
              "        text-align: right;\n",
              "    }\n",
              "</style>\n",
              "<table border=\"1\" class=\"dataframe\">\n",
              "  <thead>\n",
              "    <tr style=\"text-align: right;\">\n",
              "      <th></th>\n",
              "      <th>^DJI</th>\n",
              "      <th>^GSPC</th>\n",
              "    </tr>\n",
              "    <tr>\n",
              "      <th>Date</th>\n",
              "      <th></th>\n",
              "      <th></th>\n",
              "    </tr>\n",
              "  </thead>\n",
              "  <tbody>\n",
              "    <tr>\n",
              "      <th>2021-12-31</th>\n",
              "      <td>NaN</td>\n",
              "      <td>NaN</td>\n",
              "    </tr>\n",
              "    <tr>\n",
              "      <th>2022-01-03</th>\n",
              "      <td>0.006791</td>\n",
              "      <td>0.006374</td>\n",
              "    </tr>\n",
              "    <tr>\n",
              "      <th>2022-01-04</th>\n",
              "      <td>0.005866</td>\n",
              "      <td>-0.000630</td>\n",
              "    </tr>\n",
              "    <tr>\n",
              "      <th>2022-01-05</th>\n",
              "      <td>-0.010667</td>\n",
              "      <td>-0.019393</td>\n",
              "    </tr>\n",
              "    <tr>\n",
              "      <th>2022-01-06</th>\n",
              "      <td>-0.004687</td>\n",
              "      <td>-0.000964</td>\n",
              "    </tr>\n",
              "    <tr>\n",
              "      <th>...</th>\n",
              "      <td>...</td>\n",
              "      <td>...</td>\n",
              "    </tr>\n",
              "    <tr>\n",
              "      <th>2023-09-28</th>\n",
              "      <td>0.003460</td>\n",
              "      <td>0.005893</td>\n",
              "    </tr>\n",
              "    <tr>\n",
              "      <th>2023-09-29</th>\n",
              "      <td>-0.004718</td>\n",
              "      <td>-0.002710</td>\n",
              "    </tr>\n",
              "    <tr>\n",
              "      <th>2023-10-02</th>\n",
              "      <td>-0.002213</td>\n",
              "      <td>0.000079</td>\n",
              "    </tr>\n",
              "    <tr>\n",
              "      <th>2023-10-03</th>\n",
              "      <td>-0.012891</td>\n",
              "      <td>-0.013744</td>\n",
              "    </tr>\n",
              "    <tr>\n",
              "      <th>2023-10-04</th>\n",
              "      <td>0.003853</td>\n",
              "      <td>0.008110</td>\n",
              "    </tr>\n",
              "  </tbody>\n",
              "</table>\n",
              "<p>442 rows × 2 columns</p>\n",
              "</div>\n",
              "    <div class=\"colab-df-buttons\">\n",
              "\n",
              "  <div class=\"colab-df-container\">\n",
              "    <button class=\"colab-df-convert\" onclick=\"convertToInteractive('df-8e5d7a41-f1dc-4a73-b045-d8569d2db786')\"\n",
              "            title=\"Convert this dataframe to an interactive table.\"\n",
              "            style=\"display:none;\">\n",
              "\n",
              "  <svg xmlns=\"http://www.w3.org/2000/svg\" height=\"24px\" viewBox=\"0 -960 960 960\">\n",
              "    <path d=\"M120-120v-720h720v720H120Zm60-500h600v-160H180v160Zm220 220h160v-160H400v160Zm0 220h160v-160H400v160ZM180-400h160v-160H180v160Zm440 0h160v-160H620v160ZM180-180h160v-160H180v160Zm440 0h160v-160H620v160Z\"/>\n",
              "  </svg>\n",
              "    </button>\n",
              "\n",
              "  <style>\n",
              "    .colab-df-container {\n",
              "      display:flex;\n",
              "      gap: 12px;\n",
              "    }\n",
              "\n",
              "    .colab-df-convert {\n",
              "      background-color: #E8F0FE;\n",
              "      border: none;\n",
              "      border-radius: 50%;\n",
              "      cursor: pointer;\n",
              "      display: none;\n",
              "      fill: #1967D2;\n",
              "      height: 32px;\n",
              "      padding: 0 0 0 0;\n",
              "      width: 32px;\n",
              "    }\n",
              "\n",
              "    .colab-df-convert:hover {\n",
              "      background-color: #E2EBFA;\n",
              "      box-shadow: 0px 1px 2px rgba(60, 64, 67, 0.3), 0px 1px 3px 1px rgba(60, 64, 67, 0.15);\n",
              "      fill: #174EA6;\n",
              "    }\n",
              "\n",
              "    .colab-df-buttons div {\n",
              "      margin-bottom: 4px;\n",
              "    }\n",
              "\n",
              "    [theme=dark] .colab-df-convert {\n",
              "      background-color: #3B4455;\n",
              "      fill: #D2E3FC;\n",
              "    }\n",
              "\n",
              "    [theme=dark] .colab-df-convert:hover {\n",
              "      background-color: #434B5C;\n",
              "      box-shadow: 0px 1px 3px 1px rgba(0, 0, 0, 0.15);\n",
              "      filter: drop-shadow(0px 1px 2px rgba(0, 0, 0, 0.3));\n",
              "      fill: #FFFFFF;\n",
              "    }\n",
              "  </style>\n",
              "\n",
              "    <script>\n",
              "      const buttonEl =\n",
              "        document.querySelector('#df-8e5d7a41-f1dc-4a73-b045-d8569d2db786 button.colab-df-convert');\n",
              "      buttonEl.style.display =\n",
              "        google.colab.kernel.accessAllowed ? 'block' : 'none';\n",
              "\n",
              "      async function convertToInteractive(key) {\n",
              "        const element = document.querySelector('#df-8e5d7a41-f1dc-4a73-b045-d8569d2db786');\n",
              "        const dataTable =\n",
              "          await google.colab.kernel.invokeFunction('convertToInteractive',\n",
              "                                                    [key], {});\n",
              "        if (!dataTable) return;\n",
              "\n",
              "        const docLinkHtml = 'Like what you see? Visit the ' +\n",
              "          '<a target=\"_blank\" href=https://colab.research.google.com/notebooks/data_table.ipynb>data table notebook</a>'\n",
              "          + ' to learn more about interactive tables.';\n",
              "        element.innerHTML = '';\n",
              "        dataTable['output_type'] = 'display_data';\n",
              "        await google.colab.output.renderOutput(dataTable, element);\n",
              "        const docLink = document.createElement('div');\n",
              "        docLink.innerHTML = docLinkHtml;\n",
              "        element.appendChild(docLink);\n",
              "      }\n",
              "    </script>\n",
              "  </div>\n",
              "\n",
              "\n",
              "<div id=\"df-f00c3aa4-a210-4d21-a1e7-caf8f485a0b2\">\n",
              "  <button class=\"colab-df-quickchart\" onclick=\"quickchart('df-f00c3aa4-a210-4d21-a1e7-caf8f485a0b2')\"\n",
              "            title=\"Suggest charts.\"\n",
              "            style=\"display:none;\">\n",
              "\n",
              "<svg xmlns=\"http://www.w3.org/2000/svg\" height=\"24px\"viewBox=\"0 0 24 24\"\n",
              "     width=\"24px\">\n",
              "    <g>\n",
              "        <path d=\"M19 3H5c-1.1 0-2 .9-2 2v14c0 1.1.9 2 2 2h14c1.1 0 2-.9 2-2V5c0-1.1-.9-2-2-2zM9 17H7v-7h2v7zm4 0h-2V7h2v10zm4 0h-2v-4h2v4z\"/>\n",
              "    </g>\n",
              "</svg>\n",
              "  </button>\n",
              "\n",
              "<style>\n",
              "  .colab-df-quickchart {\n",
              "      --bg-color: #E8F0FE;\n",
              "      --fill-color: #1967D2;\n",
              "      --hover-bg-color: #E2EBFA;\n",
              "      --hover-fill-color: #174EA6;\n",
              "      --disabled-fill-color: #AAA;\n",
              "      --disabled-bg-color: #DDD;\n",
              "  }\n",
              "\n",
              "  [theme=dark] .colab-df-quickchart {\n",
              "      --bg-color: #3B4455;\n",
              "      --fill-color: #D2E3FC;\n",
              "      --hover-bg-color: #434B5C;\n",
              "      --hover-fill-color: #FFFFFF;\n",
              "      --disabled-bg-color: #3B4455;\n",
              "      --disabled-fill-color: #666;\n",
              "  }\n",
              "\n",
              "  .colab-df-quickchart {\n",
              "    background-color: var(--bg-color);\n",
              "    border: none;\n",
              "    border-radius: 50%;\n",
              "    cursor: pointer;\n",
              "    display: none;\n",
              "    fill: var(--fill-color);\n",
              "    height: 32px;\n",
              "    padding: 0;\n",
              "    width: 32px;\n",
              "  }\n",
              "\n",
              "  .colab-df-quickchart:hover {\n",
              "    background-color: var(--hover-bg-color);\n",
              "    box-shadow: 0 1px 2px rgba(60, 64, 67, 0.3), 0 1px 3px 1px rgba(60, 64, 67, 0.15);\n",
              "    fill: var(--button-hover-fill-color);\n",
              "  }\n",
              "\n",
              "  .colab-df-quickchart-complete:disabled,\n",
              "  .colab-df-quickchart-complete:disabled:hover {\n",
              "    background-color: var(--disabled-bg-color);\n",
              "    fill: var(--disabled-fill-color);\n",
              "    box-shadow: none;\n",
              "  }\n",
              "\n",
              "  .colab-df-spinner {\n",
              "    border: 2px solid var(--fill-color);\n",
              "    border-color: transparent;\n",
              "    border-bottom-color: var(--fill-color);\n",
              "    animation:\n",
              "      spin 1s steps(1) infinite;\n",
              "  }\n",
              "\n",
              "  @keyframes spin {\n",
              "    0% {\n",
              "      border-color: transparent;\n",
              "      border-bottom-color: var(--fill-color);\n",
              "      border-left-color: var(--fill-color);\n",
              "    }\n",
              "    20% {\n",
              "      border-color: transparent;\n",
              "      border-left-color: var(--fill-color);\n",
              "      border-top-color: var(--fill-color);\n",
              "    }\n",
              "    30% {\n",
              "      border-color: transparent;\n",
              "      border-left-color: var(--fill-color);\n",
              "      border-top-color: var(--fill-color);\n",
              "      border-right-color: var(--fill-color);\n",
              "    }\n",
              "    40% {\n",
              "      border-color: transparent;\n",
              "      border-right-color: var(--fill-color);\n",
              "      border-top-color: var(--fill-color);\n",
              "    }\n",
              "    60% {\n",
              "      border-color: transparent;\n",
              "      border-right-color: var(--fill-color);\n",
              "    }\n",
              "    80% {\n",
              "      border-color: transparent;\n",
              "      border-right-color: var(--fill-color);\n",
              "      border-bottom-color: var(--fill-color);\n",
              "    }\n",
              "    90% {\n",
              "      border-color: transparent;\n",
              "      border-bottom-color: var(--fill-color);\n",
              "    }\n",
              "  }\n",
              "</style>\n",
              "\n",
              "  <script>\n",
              "    async function quickchart(key) {\n",
              "      const quickchartButtonEl =\n",
              "        document.querySelector('#' + key + ' button');\n",
              "      quickchartButtonEl.disabled = true;  // To prevent multiple clicks.\n",
              "      quickchartButtonEl.classList.add('colab-df-spinner');\n",
              "      try {\n",
              "        const charts = await google.colab.kernel.invokeFunction(\n",
              "            'suggestCharts', [key], {});\n",
              "      } catch (error) {\n",
              "        console.error('Error during call to suggestCharts:', error);\n",
              "      }\n",
              "      quickchartButtonEl.classList.remove('colab-df-spinner');\n",
              "      quickchartButtonEl.classList.add('colab-df-quickchart-complete');\n",
              "    }\n",
              "    (() => {\n",
              "      let quickchartButtonEl =\n",
              "        document.querySelector('#df-f00c3aa4-a210-4d21-a1e7-caf8f485a0b2 button');\n",
              "      quickchartButtonEl.style.display =\n",
              "        google.colab.kernel.accessAllowed ? 'block' : 'none';\n",
              "    })();\n",
              "  </script>\n",
              "</div>\n",
              "    </div>\n",
              "  </div>\n"
            ]
          },
          "metadata": {},
          "execution_count": 61
        }
      ]
    },
    {
      "cell_type": "code",
      "source": [
        "plt.figure(figsize=(10, 6))\n",
        "plt.hist(rendimientos[\"^GSPC\"], bins=50, alpha=0.5, label='SP500 (GSPC)')\n",
        "plt.hist(rendimientos[\"^DJI\"], bins=50, alpha=0.5, label='Dowjow (DJI)')\n",
        "plt.xlabel('Rendimiento Diario')\n",
        "plt.ylabel('Frecuencia')\n",
        "plt.title('Histograma de Rendimientos Diarios')\n",
        "plt.legend()\n",
        "plt.show()"
      ],
      "metadata": {
        "colab": {
          "base_uri": "https://localhost:8080/",
          "height": 564
        },
        "id": "BLpiIdprBiHq",
        "outputId": "6af00192-1d6b-4601-90b9-87beaba8d07c"
      },
      "execution_count": 62,
      "outputs": [
        {
          "output_type": "display_data",
          "data": {
            "text/plain": [
              "<Figure size 1000x600 with 1 Axes>"
            ],
            "image/png": "[encoded data removed]"
          },
          "metadata": {}
        }
      ]
    },
    {
      "cell_type": "code",
      "source": [
        "\n",
        "import matplotlib.pyplot as plt\n",
        "\n",
        "# Obtener datos de dos acciones (por ejemplo, Apple y Microsoft)\n",
        "acciones = [\"^GSPC\", \"^DJI\"]\n",
        "start_date = \"2021-12-31\"\n",
        "end_date = \"2023-10-05\"\n",
        "\n",
        "data = yf.download(acciones, start=start_date, end=end_date)['Adj Close']\n",
        "\n",
        "# Trazar la serie de tiempo de ambas acciones\n",
        "plt.figure(figsize=(12, 6))\n",
        "for accion in acciones:\n",
        "    plt.plot(data.index, data[accion], label=accion)\n",
        "\n",
        "plt.xlabel('Fecha')\n",
        "plt.ylabel('Precio de Cierre Ajustado')\n",
        "plt.title('Serie de Tiempo de Precios de Cierre de Acciones')\n",
        "plt.legend()\n",
        "plt.grid(True)\n",
        "plt.show()"
      ],
      "metadata": {
        "colab": {
          "base_uri": "https://localhost:8080/",
          "height": 581
        },
        "id": "erElLybgCMLQ",
        "outputId": "386f3593-710e-49a5-c132-30d8a521ba81"
      },
      "execution_count": 63,
      "outputs": [
        {
          "output_type": "stream",
          "name": "stdout",
          "text": [
            "[*********************100%%**********************]  2 of 2 completed\n"
          ]
        },
        {
          "output_type": "display_data",
          "data": {
            "text/plain": [
              "<Figure size 1200x600 with 1 Axes>"
            ],
            "image/png": "[encoded data removed]"
          },
          "metadata": {}
        }
      ]
    }
  ]
}