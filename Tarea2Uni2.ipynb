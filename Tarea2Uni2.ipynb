{
  "nbformat": 4,
  "nbformat_minor": 0,
  "metadata": {
    "colab": {
      "provenance": []
    },
    "kernelspec": {
      "name": "python3",
      "display_name": "Python 3"
    },
    "language_info": {
      "name": "python"
    }
  },
  "cells": [
    {
      "cell_type": "code",
      "source": [
        "# Importar las bibliotecas necesarias\n",
        "import numpy as np  # Importa NumPy, una biblioteca para cálculos numéricos en Python.\n",
        "import pandas as pd  # Importa Pandas, una biblioteca para el manejo de datos en Python.\n",
        "import matplotlib.pyplot as plt  # Importa Matplotlib, una biblioteca para visualización de datos en Python.\n",
        "import seaborn as sns  # Importa Seaborn, una biblioteca de visualización basada en Matplotlib.\n",
        "import math\n"
      ],
      "metadata": {
        "id": "C_nIviZOv0kv"
      },
      "execution_count": null,
      "outputs": []
    },
    {
      "cell_type": "code",
      "execution_count": null,
      "metadata": {
        "id": "1ZGgtEjxuMbE",
        "colab": {
          "base_uri": "https://localhost:8080/"
        },
        "outputId": "4d9c710c-fc28-434f-81de-d181c8e363af"
      },
      "outputs": [
        {
          "output_type": "stream",
          "name": "stdout",
          "text": [
            "Mounted at /content/drive\n"
          ]
        }
      ],
      "source": [
        "from google.colab import drive\n",
        "drive.mount(\"/content/drive\")\n"
      ]
    },
    {
      "cell_type": "code",
      "source": [
        "#Importamos el archivo desde el drive de Fernando Alzuarte\n",
        "d=pd.read_csv(\"/content/drive/MyDrive/Programación orientada a objetivos /precios_muestra.csv\")\n",
        "d"
      ],
      "metadata": {
        "id": "AImc3JQGwEsD",
        "colab": {
          "base_uri": "https://localhost:8080/",
          "height": 457
        },
        "outputId": "5131eb39-8ba9-4d6b-a5f0-9ffcb2c65f7c"
      },
      "execution_count": null,
      "outputs": [
        {
          "output_type": "execute_result",
          "data": {
            "text/plain": [
              "      BLUE   ORANGE\n",
              "0   8.7000  10.6600\n",
              "1   8.9055  11.0828\n",
              "2   8.7113  10.7100\n",
              "3   8.4346  11.5907\n",
              "4   8.7254  12.1070\n",
              "5   9.0551  11.7876\n",
              "6   8.9514  11.2078\n",
              "7   9.2439  12.5192\n",
              "8   9.1276  13.3624\n",
              "9   9.3976  14.4080\n",
              "10  9.4554  11.9837\n",
              "11  9.5704  12.2718\n",
              "12  9.7728  11.5892"
            ],
            "text/html": [
              "\n",
              "  <div id=\"df-9eee816d-efe0-4545-ae11-7c9ec7f64143\" class=\"colab-df-container\">\n",
              "    <div>\n",
              "<style scoped>\n",
              "    .dataframe tbody tr th:only-of-type {\n",
              "        vertical-align: middle;\n",
              "    }\n",
              "\n",
              "    .dataframe tbody tr th {\n",
              "        vertical-align: top;\n",
              "    }\n",
              "\n",
              "    .dataframe thead th {\n",
              "        text-align: right;\n",
              "    }\n",
              "</style>\n",
              "<table border=\"1\" class=\"dataframe\">\n",
              "  <thead>\n",
              "    <tr style=\"text-align: right;\">\n",
              "      <th></th>\n",
              "      <th>BLUE</th>\n",
              "      <th>ORANGE</th>\n",
              "    </tr>\n",
              "  </thead>\n",
              "  <tbody>\n",
              "    <tr>\n",
              "      <th>0</th>\n",
              "      <td>8.7000</td>\n",
              "      <td>10.6600</td>\n",
              "    </tr>\n",
              "    <tr>\n",
              "      <th>1</th>\n",
              "      <td>8.9055</td>\n",
              "      <td>11.0828</td>\n",
              "    </tr>\n",
              "    <tr>\n",
              "      <th>2</th>\n",
              "      <td>8.7113</td>\n",
              "      <td>10.7100</td>\n",
              "    </tr>\n",
              "    <tr>\n",
              "      <th>3</th>\n",
              "      <td>8.4346</td>\n",
              "      <td>11.5907</td>\n",
              "    </tr>\n",
              "    <tr>\n",
              "      <th>4</th>\n",
              "      <td>8.7254</td>\n",
              "      <td>12.1070</td>\n",
              "    </tr>\n",
              "    <tr>\n",
              "      <th>5</th>\n",
              "      <td>9.0551</td>\n",
              "      <td>11.7876</td>\n",
              "    </tr>\n",
              "    <tr>\n",
              "      <th>6</th>\n",
              "      <td>8.9514</td>\n",
              "      <td>11.2078</td>\n",
              "    </tr>\n",
              "    <tr>\n",
              "      <th>7</th>\n",
              "      <td>9.2439</td>\n",
              "      <td>12.5192</td>\n",
              "    </tr>\n",
              "    <tr>\n",
              "      <th>8</th>\n",
              "      <td>9.1276</td>\n",
              "      <td>13.3624</td>\n",
              "    </tr>\n",
              "    <tr>\n",
              "      <th>9</th>\n",
              "      <td>9.3976</td>\n",
              "      <td>14.4080</td>\n",
              "    </tr>\n",
              "    <tr>\n",
              "      <th>10</th>\n",
              "      <td>9.4554</td>\n",
              "      <td>11.9837</td>\n",
              "    </tr>\n",
              "    <tr>\n",
              "      <th>11</th>\n",
              "      <td>9.5704</td>\n",
              "      <td>12.2718</td>\n",
              "    </tr>\n",
              "    <tr>\n",
              "      <th>12</th>\n",
              "      <td>9.7728</td>\n",
              "      <td>11.5892</td>\n",
              "    </tr>\n",
              "  </tbody>\n",
              "</table>\n",
              "</div>\n",
              "    <div class=\"colab-df-buttons\">\n",
              "\n",
              "  <div class=\"colab-df-container\">\n",
              "    <button class=\"colab-df-convert\" onclick=\"convertToInteractive('df-9eee816d-efe0-4545-ae11-7c9ec7f64143')\"\n",
              "            title=\"Convert this dataframe to an interactive table.\"\n",
              "            style=\"display:none;\">\n",
              "\n",
              "  <svg xmlns=\"http://www.w3.org/2000/svg\" height=\"24px\" viewBox=\"0 -960 960 960\">\n",
              "    <path d=\"M120-120v-720h720v720H120Zm60-500h600v-160H180v160Zm220 220h160v-160H400v160Zm0 220h160v-160H400v160ZM180-400h160v-160H180v160Zm440 0h160v-160H620v160ZM180-180h160v-160H180v160Zm440 0h160v-160H620v160Z\"/>\n",
              "  </svg>\n",
              "    </button>\n",
              "\n",
              "  <style>\n",
              "    .colab-df-container {\n",
              "      display:flex;\n",
              "      gap: 12px;\n",
              "    }\n",
              "\n",
              "    .colab-df-convert {\n",
              "      background-color: #E8F0FE;\n",
              "      border: none;\n",
              "      border-radius: 50%;\n",
              "      cursor: pointer;\n",
              "      display: none;\n",
              "      fill: #1967D2;\n",
              "      height: 32px;\n",
              "      padding: 0 0 0 0;\n",
              "      width: 32px;\n",
              "    }\n",
              "\n",
              "    .colab-df-convert:hover {\n",
              "      background-color: #E2EBFA;\n",
              "      box-shadow: 0px 1px 2px rgba(60, 64, 67, 0.3), 0px 1px 3px 1px rgba(60, 64, 67, 0.15);\n",
              "      fill: #174EA6;\n",
              "    }\n",
              "\n",
              "    .colab-df-buttons div {\n",
              "      margin-bottom: 4px;\n",
              "    }\n",
              "\n",
              "    [theme=dark] .colab-df-convert {\n",
              "      background-color: #3B4455;\n",
              "      fill: #D2E3FC;\n",
              "    }\n",
              "\n",
              "    [theme=dark] .colab-df-convert:hover {\n",
              "      background-color: #434B5C;\n",
              "      box-shadow: 0px 1px 3px 1px rgba(0, 0, 0, 0.15);\n",
              "      filter: drop-shadow(0px 1px 2px rgba(0, 0, 0, 0.3));\n",
              "      fill: #FFFFFF;\n",
              "    }\n",
              "  </style>\n",
              "\n",
              "    <script>\n",
              "      const buttonEl =\n",
              "        document.querySelector('#df-9eee816d-efe0-4545-ae11-7c9ec7f64143 button.colab-df-convert');\n",
              "      buttonEl.style.display =\n",
              "        google.colab.kernel.accessAllowed ? 'block' : 'none';\n",
              "\n",
              "      async function convertToInteractive(key) {\n",
              "        const element = document.querySelector('#df-9eee816d-efe0-4545-ae11-7c9ec7f64143');\n",
              "        const dataTable =\n",
              "          await google.colab.kernel.invokeFunction('convertToInteractive',\n",
              "                                                    [key], {});\n",
              "        if (!dataTable) return;\n",
              "\n",
              "        const docLinkHtml = 'Like what you see? Visit the ' +\n",
              "          '<a target=\"_blank\" href=https://colab.research.google.com/notebooks/data_table.ipynb>data table notebook</a>'\n",
              "          + ' to learn more about interactive tables.';\n",
              "        element.innerHTML = '';\n",
              "        dataTable['output_type'] = 'display_data';\n",
              "        await google.colab.output.renderOutput(dataTable, element);\n",
              "        const docLink = document.createElement('div');\n",
              "        docLink.innerHTML = docLinkHtml;\n",
              "        element.appendChild(docLink);\n",
              "      }\n",
              "    </script>\n",
              "  </div>\n",
              "\n",
              "\n",
              "<div id=\"df-a6c7bb29-12c9-4f34-92ac-5ce434db956f\">\n",
              "  <button class=\"colab-df-quickchart\" onclick=\"quickchart('df-a6c7bb29-12c9-4f34-92ac-5ce434db956f')\"\n",
              "            title=\"Suggest charts.\"\n",
              "            style=\"display:none;\">\n",
              "\n",
              "<svg xmlns=\"http://www.w3.org/2000/svg\" height=\"24px\"viewBox=\"0 0 24 24\"\n",
              "     width=\"24px\">\n",
              "    <g>\n",
              "        <path d=\"M19 3H5c-1.1 0-2 .9-2 2v14c0 1.1.9 2 2 2h14c1.1 0 2-.9 2-2V5c0-1.1-.9-2-2-2zM9 17H7v-7h2v7zm4 0h-2V7h2v10zm4 0h-2v-4h2v4z\"/>\n",
              "    </g>\n",
              "</svg>\n",
              "  </button>\n",
              "\n",
              "<style>\n",
              "  .colab-df-quickchart {\n",
              "      --bg-color: #E8F0FE;\n",
              "      --fill-color: #1967D2;\n",
              "      --hover-bg-color: #E2EBFA;\n",
              "      --hover-fill-color: #174EA6;\n",
              "      --disabled-fill-color: #AAA;\n",
              "      --disabled-bg-color: #DDD;\n",
              "  }\n",
              "\n",
              "  [theme=dark] .colab-df-quickchart {\n",
              "      --bg-color: #3B4455;\n",
              "      --fill-color: #D2E3FC;\n",
              "      --hover-bg-color: #434B5C;\n",
              "      --hover-fill-color: #FFFFFF;\n",
              "      --disabled-bg-color: #3B4455;\n",
              "      --disabled-fill-color: #666;\n",
              "  }\n",
              "\n",
              "  .colab-df-quickchart {\n",
              "    background-color: var(--bg-color);\n",
              "    border: none;\n",
              "    border-radius: 50%;\n",
              "    cursor: pointer;\n",
              "    display: none;\n",
              "    fill: var(--fill-color);\n",
              "    height: 32px;\n",
              "    padding: 0;\n",
              "    width: 32px;\n",
              "  }\n",
              "\n",
              "  .colab-df-quickchart:hover {\n",
              "    background-color: var(--hover-bg-color);\n",
              "    box-shadow: 0 1px 2px rgba(60, 64, 67, 0.3), 0 1px 3px 1px rgba(60, 64, 67, 0.15);\n",
              "    fill: var(--button-hover-fill-color);\n",
              "  }\n",
              "\n",
              "  .colab-df-quickchart-complete:disabled,\n",
              "  .colab-df-quickchart-complete:disabled:hover {\n",
              "    background-color: var(--disabled-bg-color);\n",
              "    fill: var(--disabled-fill-color);\n",
              "    box-shadow: none;\n",
              "  }\n",
              "\n",
              "  .colab-df-spinner {\n",
              "    border: 2px solid var(--fill-color);\n",
              "    border-color: transparent;\n",
              "    border-bottom-color: var(--fill-color);\n",
              "    animation:\n",
              "      spin 1s steps(1) infinite;\n",
              "  }\n",
              "\n",
              "  @keyframes spin {\n",
              "    0% {\n",
              "      border-color: transparent;\n",
              "      border-bottom-color: var(--fill-color);\n",
              "      border-left-color: var(--fill-color);\n",
              "    }\n",
              "    20% {\n",
              "      border-color: transparent;\n",
              "      border-left-color: var(--fill-color);\n",
              "      border-top-color: var(--fill-color);\n",
              "    }\n",
              "    30% {\n",
              "      border-color: transparent;\n",
              "      border-left-color: var(--fill-color);\n",
              "      border-top-color: var(--fill-color);\n",
              "      border-right-color: var(--fill-color);\n",
              "    }\n",
              "    40% {\n",
              "      border-color: transparent;\n",
              "      border-right-color: var(--fill-color);\n",
              "      border-top-color: var(--fill-color);\n",
              "    }\n",
              "    60% {\n",
              "      border-color: transparent;\n",
              "      border-right-color: var(--fill-color);\n",
              "    }\n",
              "    80% {\n",
              "      border-color: transparent;\n",
              "      border-right-color: var(--fill-color);\n",
              "      border-bottom-color: var(--fill-color);\n",
              "    }\n",
              "    90% {\n",
              "      border-color: transparent;\n",
              "      border-bottom-color: var(--fill-color);\n",
              "    }\n",
              "  }\n",
              "</style>\n",
              "\n",
              "  <script>\n",
              "    async function quickchart(key) {\n",
              "      const quickchartButtonEl =\n",
              "        document.querySelector('#' + key + ' button');\n",
              "      quickchartButtonEl.disabled = true;  // To prevent multiple clicks.\n",
              "      quickchartButtonEl.classList.add('colab-df-spinner');\n",
              "      try {\n",
              "        const charts = await google.colab.kernel.invokeFunction(\n",
              "            'suggestCharts', [key], {});\n",
              "      } catch (error) {\n",
              "        console.error('Error during call to suggestCharts:', error);\n",
              "      }\n",
              "      quickchartButtonEl.classList.remove('colab-df-spinner');\n",
              "      quickchartButtonEl.classList.add('colab-df-quickchart-complete');\n",
              "    }\n",
              "    (() => {\n",
              "      let quickchartButtonEl =\n",
              "        document.querySelector('#df-a6c7bb29-12c9-4f34-92ac-5ce434db956f button');\n",
              "      quickchartButtonEl.style.display =\n",
              "        google.colab.kernel.accessAllowed ? 'block' : 'none';\n",
              "    })();\n",
              "  </script>\n",
              "</div>\n",
              "    </div>\n",
              "  </div>\n"
            ]
          },
          "metadata": {},
          "execution_count": 3
        }
      ]
    },
    {
      "cell_type": "code",
      "source": [
        "# Calcula los rendimientos diarios para cada empresa utilizando pct_change()\n",
        "rendimientos=d.pct_change().dropna()\n",
        "\n",
        "rendimientos"
      ],
      "metadata": {
        "id": "bo7K5Mo0x88r",
        "colab": {
          "base_uri": "https://localhost:8080/",
          "height": 426
        },
        "outputId": "bc561656-4d34-4d45-b85a-ab52d8d082ce"
      },
      "execution_count": null,
      "outputs": [
        {
          "output_type": "execute_result",
          "data": {
            "text/plain": [
              "        BLUE    ORANGE\n",
              "1   0.023621  0.039662\n",
              "2  -0.021807 -0.033638\n",
              "3  -0.031763  0.082232\n",
              "4   0.034477  0.044544\n",
              "5   0.037786 -0.026381\n",
              "6  -0.011452 -0.049187\n",
              "7   0.032676  0.117008\n",
              "8  -0.012581  0.067353\n",
              "9   0.029581  0.078249\n",
              "10  0.006151 -0.168261\n",
              "11  0.012162  0.024041\n",
              "12  0.021149 -0.055623"
            ],
            "text/html": [
              "\n",
              "  <div id=\"df-fb460037-de9c-4a5d-bb7b-7752cb86850e\" class=\"colab-df-container\">\n",
              "    <div>\n",
              "<style scoped>\n",
              "    .dataframe tbody tr th:only-of-type {\n",
              "        vertical-align: middle;\n",
              "    }\n",
              "\n",
              "    .dataframe tbody tr th {\n",
              "        vertical-align: top;\n",
              "    }\n",
              "\n",
              "    .dataframe thead th {\n",
              "        text-align: right;\n",
              "    }\n",
              "</style>\n",
              "<table border=\"1\" class=\"dataframe\">\n",
              "  <thead>\n",
              "    <tr style=\"text-align: right;\">\n",
              "      <th></th>\n",
              "      <th>BLUE</th>\n",
              "      <th>ORANGE</th>\n",
              "    </tr>\n",
              "  </thead>\n",
              "  <tbody>\n",
              "    <tr>\n",
              "      <th>1</th>\n",
              "      <td>0.023621</td>\n",
              "      <td>0.039662</td>\n",
              "    </tr>\n",
              "    <tr>\n",
              "      <th>2</th>\n",
              "      <td>-0.021807</td>\n",
              "      <td>-0.033638</td>\n",
              "    </tr>\n",
              "    <tr>\n",
              "      <th>3</th>\n",
              "      <td>-0.031763</td>\n",
              "      <td>0.082232</td>\n",
              "    </tr>\n",
              "    <tr>\n",
              "      <th>4</th>\n",
              "      <td>0.034477</td>\n",
              "      <td>0.044544</td>\n",
              "    </tr>\n",
              "    <tr>\n",
              "      <th>5</th>\n",
              "      <td>0.037786</td>\n",
              "      <td>-0.026381</td>\n",
              "    </tr>\n",
              "    <tr>\n",
              "      <th>6</th>\n",
              "      <td>-0.011452</td>\n",
              "      <td>-0.049187</td>\n",
              "    </tr>\n",
              "    <tr>\n",
              "      <th>7</th>\n",
              "      <td>0.032676</td>\n",
              "      <td>0.117008</td>\n",
              "    </tr>\n",
              "    <tr>\n",
              "      <th>8</th>\n",
              "      <td>-0.012581</td>\n",
              "      <td>0.067353</td>\n",
              "    </tr>\n",
              "    <tr>\n",
              "      <th>9</th>\n",
              "      <td>0.029581</td>\n",
              "      <td>0.078249</td>\n",
              "    </tr>\n",
              "    <tr>\n",
              "      <th>10</th>\n",
              "      <td>0.006151</td>\n",
              "      <td>-0.168261</td>\n",
              "    </tr>\n",
              "    <tr>\n",
              "      <th>11</th>\n",
              "      <td>0.012162</td>\n",
              "      <td>0.024041</td>\n",
              "    </tr>\n",
              "    <tr>\n",
              "      <th>12</th>\n",
              "      <td>0.021149</td>\n",
              "      <td>-0.055623</td>\n",
              "    </tr>\n",
              "  </tbody>\n",
              "</table>\n",
              "</div>\n",
              "    <div class=\"colab-df-buttons\">\n",
              "\n",
              "  <div class=\"colab-df-container\">\n",
              "    <button class=\"colab-df-convert\" onclick=\"convertToInteractive('df-fb460037-de9c-4a5d-bb7b-7752cb86850e')\"\n",
              "            title=\"Convert this dataframe to an interactive table.\"\n",
              "            style=\"display:none;\">\n",
              "\n",
              "  <svg xmlns=\"http://www.w3.org/2000/svg\" height=\"24px\" viewBox=\"0 -960 960 960\">\n",
              "    <path d=\"M120-120v-720h720v720H120Zm60-500h600v-160H180v160Zm220 220h160v-160H400v160Zm0 220h160v-160H400v160ZM180-400h160v-160H180v160Zm440 0h160v-160H620v160ZM180-180h160v-160H180v160Zm440 0h160v-160H620v160Z\"/>\n",
              "  </svg>\n",
              "    </button>\n",
              "\n",
              "  <style>\n",
              "    .colab-df-container {\n",
              "      display:flex;\n",
              "      gap: 12px;\n",
              "    }\n",
              "\n",
              "    .colab-df-convert {\n",
              "      background-color: #E8F0FE;\n",
              "      border: none;\n",
              "      border-radius: 50%;\n",
              "      cursor: pointer;\n",
              "      display: none;\n",
              "      fill: #1967D2;\n",
              "      height: 32px;\n",
              "      padding: 0 0 0 0;\n",
              "      width: 32px;\n",
              "    }\n",
              "\n",
              "    .colab-df-convert:hover {\n",
              "      background-color: #E2EBFA;\n",
              "      box-shadow: 0px 1px 2px rgba(60, 64, 67, 0.3), 0px 1px 3px 1px rgba(60, 64, 67, 0.15);\n",
              "      fill: #174EA6;\n",
              "    }\n",
              "\n",
              "    .colab-df-buttons div {\n",
              "      margin-bottom: 4px;\n",
              "    }\n",
              "\n",
              "    [theme=dark] .colab-df-convert {\n",
              "      background-color: #3B4455;\n",
              "      fill: #D2E3FC;\n",
              "    }\n",
              "\n",
              "    [theme=dark] .colab-df-convert:hover {\n",
              "      background-color: #434B5C;\n",
              "      box-shadow: 0px 1px 3px 1px rgba(0, 0, 0, 0.15);\n",
              "      filter: drop-shadow(0px 1px 2px rgba(0, 0, 0, 0.3));\n",
              "      fill: #FFFFFF;\n",
              "    }\n",
              "  </style>\n",
              "\n",
              "    <script>\n",
              "      const buttonEl =\n",
              "        document.querySelector('#df-fb460037-de9c-4a5d-bb7b-7752cb86850e button.colab-df-convert');\n",
              "      buttonEl.style.display =\n",
              "        google.colab.kernel.accessAllowed ? 'block' : 'none';\n",
              "\n",
              "      async function convertToInteractive(key) {\n",
              "        const element = document.querySelector('#df-fb460037-de9c-4a5d-bb7b-7752cb86850e');\n",
              "        const dataTable =\n",
              "          await google.colab.kernel.invokeFunction('convertToInteractive',\n",
              "                                                    [key], {});\n",
              "        if (!dataTable) return;\n",
              "\n",
              "        const docLinkHtml = 'Like what you see? Visit the ' +\n",
              "          '<a target=\"_blank\" href=https://colab.research.google.com/notebooks/data_table.ipynb>data table notebook</a>'\n",
              "          + ' to learn more about interactive tables.';\n",
              "        element.innerHTML = '';\n",
              "        dataTable['output_type'] = 'display_data';\n",
              "        await google.colab.output.renderOutput(dataTable, element);\n",
              "        const docLink = document.createElement('div');\n",
              "        docLink.innerHTML = docLinkHtml;\n",
              "        element.appendChild(docLink);\n",
              "      }\n",
              "    </script>\n",
              "  </div>\n",
              "\n",
              "\n",
              "<div id=\"df-a2ad26d1-37d2-4ad3-8dbb-96b545613a47\">\n",
              "  <button class=\"colab-df-quickchart\" onclick=\"quickchart('df-a2ad26d1-37d2-4ad3-8dbb-96b545613a47')\"\n",
              "            title=\"Suggest charts.\"\n",
              "            style=\"display:none;\">\n",
              "\n",
              "<svg xmlns=\"http://www.w3.org/2000/svg\" height=\"24px\"viewBox=\"0 0 24 24\"\n",
              "     width=\"24px\">\n",
              "    <g>\n",
              "        <path d=\"M19 3H5c-1.1 0-2 .9-2 2v14c0 1.1.9 2 2 2h14c1.1 0 2-.9 2-2V5c0-1.1-.9-2-2-2zM9 17H7v-7h2v7zm4 0h-2V7h2v10zm4 0h-2v-4h2v4z\"/>\n",
              "    </g>\n",
              "</svg>\n",
              "  </button>\n",
              "\n",
              "<style>\n",
              "  .colab-df-quickchart {\n",
              "      --bg-color: #E8F0FE;\n",
              "      --fill-color: #1967D2;\n",
              "      --hover-bg-color: #E2EBFA;\n",
              "      --hover-fill-color: #174EA6;\n",
              "      --disabled-fill-color: #AAA;\n",
              "      --disabled-bg-color: #DDD;\n",
              "  }\n",
              "\n",
              "  [theme=dark] .colab-df-quickchart {\n",
              "      --bg-color: #3B4455;\n",
              "      --fill-color: #D2E3FC;\n",
              "      --hover-bg-color: #434B5C;\n",
              "      --hover-fill-color: #FFFFFF;\n",
              "      --disabled-bg-color: #3B4455;\n",
              "      --disabled-fill-color: #666;\n",
              "  }\n",
              "\n",
              "  .colab-df-quickchart {\n",
              "    background-color: var(--bg-color);\n",
              "    border: none;\n",
              "    border-radius: 50%;\n",
              "    cursor: pointer;\n",
              "    display: none;\n",
              "    fill: var(--fill-color);\n",
              "    height: 32px;\n",
              "    padding: 0;\n",
              "    width: 32px;\n",
              "  }\n",
              "\n",
              "  .colab-df-quickchart:hover {\n",
              "    background-color: var(--hover-bg-color);\n",
              "    box-shadow: 0 1px 2px rgba(60, 64, 67, 0.3), 0 1px 3px 1px rgba(60, 64, 67, 0.15);\n",
              "    fill: var(--button-hover-fill-color);\n",
              "  }\n",
              "\n",
              "  .colab-df-quickchart-complete:disabled,\n",
              "  .colab-df-quickchart-complete:disabled:hover {\n",
              "    background-color: var(--disabled-bg-color);\n",
              "    fill: var(--disabled-fill-color);\n",
              "    box-shadow: none;\n",
              "  }\n",
              "\n",
              "  .colab-df-spinner {\n",
              "    border: 2px solid var(--fill-color);\n",
              "    border-color: transparent;\n",
              "    border-bottom-color: var(--fill-color);\n",
              "    animation:\n",
              "      spin 1s steps(1) infinite;\n",
              "  }\n",
              "\n",
              "  @keyframes spin {\n",
              "    0% {\n",
              "      border-color: transparent;\n",
              "      border-bottom-color: var(--fill-color);\n",
              "      border-left-color: var(--fill-color);\n",
              "    }\n",
              "    20% {\n",
              "      border-color: transparent;\n",
              "      border-left-color: var(--fill-color);\n",
              "      border-top-color: var(--fill-color);\n",
              "    }\n",
              "    30% {\n",
              "      border-color: transparent;\n",
              "      border-left-color: var(--fill-color);\n",
              "      border-top-color: var(--fill-color);\n",
              "      border-right-color: var(--fill-color);\n",
              "    }\n",
              "    40% {\n",
              "      border-color: transparent;\n",
              "      border-right-color: var(--fill-color);\n",
              "      border-top-color: var(--fill-color);\n",
              "    }\n",
              "    60% {\n",
              "      border-color: transparent;\n",
              "      border-right-color: var(--fill-color);\n",
              "    }\n",
              "    80% {\n",
              "      border-color: transparent;\n",
              "      border-right-color: var(--fill-color);\n",
              "      border-bottom-color: var(--fill-color);\n",
              "    }\n",
              "    90% {\n",
              "      border-color: transparent;\n",
              "      border-bottom-color: var(--fill-color);\n",
              "    }\n",
              "  }\n",
              "</style>\n",
              "\n",
              "  <script>\n",
              "    async function quickchart(key) {\n",
              "      const quickchartButtonEl =\n",
              "        document.querySelector('#' + key + ' button');\n",
              "      quickchartButtonEl.disabled = true;  // To prevent multiple clicks.\n",
              "      quickchartButtonEl.classList.add('colab-df-spinner');\n",
              "      try {\n",
              "        const charts = await google.colab.kernel.invokeFunction(\n",
              "            'suggestCharts', [key], {});\n",
              "      } catch (error) {\n",
              "        console.error('Error during call to suggestCharts:', error);\n",
              "      }\n",
              "      quickchartButtonEl.classList.remove('colab-df-spinner');\n",
              "      quickchartButtonEl.classList.add('colab-df-quickchart-complete');\n",
              "    }\n",
              "    (() => {\n",
              "      let quickchartButtonEl =\n",
              "        document.querySelector('#df-a2ad26d1-37d2-4ad3-8dbb-96b545613a47 button');\n",
              "      quickchartButtonEl.style.display =\n",
              "        google.colab.kernel.accessAllowed ? 'block' : 'none';\n",
              "    })();\n",
              "  </script>\n",
              "</div>\n",
              "    </div>\n",
              "  </div>\n"
            ]
          },
          "metadata": {},
          "execution_count": 4
        }
      ]
    },
    {
      "cell_type": "code",
      "source": [
        "\n",
        "#Calcular la media y la desviación estandar de los rendimientos\n",
        "media=rendimientos.mean()\n",
        "media\n",
        "\n",
        "desv=rendimientos.std()\n",
        "desv"
      ],
      "metadata": {
        "id": "YThJj0n8v4WY",
        "colab": {
          "base_uri": "https://localhost:8080/"
        },
        "outputId": "20858e1b-fa81-40cb-ad9b-af3b3d03f1c0"
      },
      "execution_count": null,
      "outputs": [
        {
          "output_type": "execute_result",
          "data": {
            "text/plain": [
              "BLUE      0.023977\n",
              "ORANGE    0.079601\n",
              "dtype: float64"
            ]
          },
          "metadata": {},
          "execution_count": 5
        }
      ]
    },
    {
      "cell_type": "markdown",
      "source": [
        "2.- Ahora que tenemos una serie de rendimientos de 12 meses, podemos producir el rendimiento com- puesto multiplicando los rendimientos de los períodos individuales, siempre y cuando los rendimien- tos se expresen como tasas de crecimiento.\n",
        "Para componer los rendimientos, todo lo que tenemos que hacer es sumar 1 a cada rendimiento y luego multiplicarlos. El resultado está en formato “1+R”, por lo que debemos restar 1.\n",
        "Calcula el rendimiento compuesto de las dos series."
      ],
      "metadata": {
        "id": "gV_2wK3_yjsm"
      }
    },
    {
      "cell_type": "code",
      "source": [
        "# Calcular el rendimiento compuesto\n",
        "# Rendimiento compuesto = (Multiplicar todos los rendimientos + 1) - 1\n",
        "rendimiento_compuesto = (rendimientos + 1).prod() - 1\n",
        "\n",
        "# Imprimir el resultado\n",
        "print(\"Rendimiento compuesto:\", rendimiento_compuesto)\n"
      ],
      "metadata": {
        "id": "r9zjjN1GyFWg",
        "colab": {
          "base_uri": "https://localhost:8080/"
        },
        "outputId": "e0b1887a-b0cb-426b-cd25-08b98a01c3c5"
      },
      "execution_count": null,
      "outputs": [
        {
          "output_type": "stream",
          "name": "stdout",
          "text": [
            "Rendimiento compuesto: BLUE      0.123310\n",
            "ORANGE    0.087167\n",
            "dtype: float64\n"
          ]
        }
      ]
    },
    {
      "cell_type": "markdown",
      "source": [
        "3.- Anualiza un 1% mensual, un 4% trimestral y un 0,01% de rentabilidad diaria.\n"
      ],
      "metadata": {
        "id": "Bo8Vj1bv0Kvq"
      }
    },
    {
      "cell_type": "code",
      "source": [
        "# Definir una función para anualizar rendimientos\n",
        "def anualizar_rendimiento(rendimiento_periodo, periodos_por_anio):\n",
        "\n",
        "    return (1 + rendimiento_periodo)**periodos_por_anio - 1\n",
        "\n",
        "# Definir tasas de rendimiento en diferentes períodos\n",
        "mensual = 0.01\n",
        "perm = 12\n",
        "trimestral = 0.04\n",
        "pert = 4\n",
        "diario = 0.0001\n",
        "perd = 252\n",
        "\n",
        "# Calcular rendimientos anualizados utilizando la función\n",
        "rendimiento_anual_mensual = anualizar_rendimiento(mensual, perm)\n",
        "rendimiento_anual_trimestral = anualizar_rendimiento(trimestral, pert)\n",
        "rendimiento_anual_diario = anualizar_rendimiento(diario, perd)\n",
        "\n",
        "# Imprimir los resultados\n",
        "print(f'Rendimiento anualizado mensual: {rendimiento_anual_mensual:.4f}')\n",
        "print(f'Rendimiento anualizado trimestral: {rendimiento_anual_trimestral:.4f}')\n",
        "print(f'Rendimiento anualizado diario: {rendimiento_anual_diario:.6f}')\n"
      ],
      "metadata": {
        "id": "_dAS-f4WzJ9x",
        "colab": {
          "base_uri": "https://localhost:8080/"
        },
        "outputId": "81aeb91d-1b87-4e83-87cf-b72d3882202a"
      },
      "execution_count": null,
      "outputs": [
        {
          "output_type": "stream",
          "name": "stdout",
          "text": [
            "Rendimiento anualizado mensual: 0.1268\n",
            "Rendimiento anualizado trimestral: 0.1699\n",
            "Rendimiento anualizado diario: 0.025519\n"
          ]
        }
      ]
    },
    {
      "cell_type": "markdown",
      "source": [
        "4.- Ahora, anualiza la volatilidad escalándola (multiplicándola) por la raíz cuadrada del número de períodos por observación.\n"
      ],
      "metadata": {
        "id": "p2cIOIS22C4s"
      }
    },
    {
      "cell_type": "code",
      "source": [
        "# Definir la volatilidad en términos del período original\n",
        "volatilidad_mensual = 0.02  # Por ejemplo, 2% de volatilidad mensual\n",
        "periodos_por_mes = 12\n",
        "\n",
        "# Anualizar la volatilidad escalándola\n",
        "volatilidad_anual_mensual = volatilidad_mensual * math.sqrt(periodos_por_mes)\n",
        "\n",
        "# Imprimir el resultado\n",
        "print(f'Volatilidad anualizada mensual: {volatilidad_anual_mensual:.4f}')"
      ],
      "metadata": {
        "id": "9btHtISU0mr0",
        "colab": {
          "base_uri": "https://localhost:8080/"
        },
        "outputId": "8a1739c1-90a4-47c0-9a1e-7086bae80f89"
      },
      "execution_count": null,
      "outputs": [
        {
          "output_type": "stream",
          "name": "stdout",
          "text": [
            "Volatilidad anualizada mensual: 0.0693\n"
          ]
        }
      ]
    },
    {
      "cell_type": "markdown",
      "source": [
        "5.- En tu Módulo (que creaste en las sesiones), escribe atributos a tu clase ya formada en donde calcules el rendimiento compuesto y en donde anualices rendimientos."
      ],
      "metadata": {
        "id": "yQbQrXEjyANi"
      }
    },
    {
      "cell_type": "code",
      "source": [
        "from datetime import datetime\n",
        "import yfinance as yf\n",
        "\n",
        "class Asset:\n",
        "    def __init__(self, ticker, start_date, end_date=datetime.today().strftime('%Y-%m-%d')):\n",
        "        self.ticker = ticker\n",
        "        self.start_date = start_date\n",
        "        self.end_date = end_date\n",
        "        self.data = self.get_data()  # Descargar los datos al instanciar la clase\n",
        "\n",
        "    def get_data(self):\n",
        "        df = yf.download(self.ticker, start=self.start_date, end=self.end_date)\n",
        "        return df\n",
        "\n",
        "    def simple_returns(self, adj=False, cum=False):\n",
        "        if adj:\n",
        "            simple_returns = self.data[\"Adj Close\"].pct_change().dropna()\n",
        "        else:\n",
        "            simple_returns = self.data[\"Close\"].pct_change().dropna()\n",
        "        if cum:\n",
        "            simple_returns = (1 + simple_returns).cumprod() - 1\n",
        "        return simple_returns\n",
        "#Aqui estan los nuevos atributos\n",
        "    def calculate_compound_return(self):\n",
        "        simple_returns = self.simple_returns()\n",
        "        compound_return = (1 + simple_returns).prod() - 1\n",
        "        return compound_return\n",
        "\n",
        "    def annualize_returns(self, rendimiento_periodo, periodos_por_anio):\n",
        "        return (1 + rendimiento_periodo) ** periodos_por_anio - 1"
      ],
      "metadata": {
        "id": "qRT2jQuR7EHr"
      },
      "execution_count": null,
      "outputs": []
    },
    {
      "cell_type": "markdown",
      "source": [
        "6.- Crea un DataFrame a partir de un diccionario cuyas columnas sean “Stock A” y “Stock B”. Cada\n",
        "columna tendrá 10 valores que deberás elegir a partir de una distribución normal con parámetros\n",
        "10 (media) y 2 (desviación estándar).\n"
      ],
      "metadata": {
        "id": "yOP5vP4Q0WXo"
      }
    },
    {
      "cell_type": "code",
      "source": [
        "data = {\n",
        "    \"Stock A\": np.random.normal(10, 2, 10),\n",
        "    \"Stock B\": np.random.normal(10, 2, 10)\n",
        "}\n",
        "\n",
        "# Crear un DataFrame a partir del diccionario\n",
        "df = pd.DataFrame(data)\n",
        "\n",
        "# Imprimir el DataFrame\n",
        "print(df)"
      ],
      "metadata": {
        "id": "9aP6fjPp0iq_",
        "outputId": "a69fe9ff-af29-4742-857b-ee75a2dd031e",
        "colab": {
          "base_uri": "https://localhost:8080/"
        }
      },
      "execution_count": null,
      "outputs": [
        {
          "output_type": "stream",
          "name": "stdout",
          "text": [
            "     Stock A    Stock B\n",
            "0   7.191186  10.124598\n",
            "1  10.943255   8.589740\n",
            "2  11.210748   9.772116\n",
            "3  11.428486   7.844253\n",
            "4   7.406730  10.824210\n",
            "5   7.122586   7.432669\n",
            "6   7.076195   8.727943\n",
            "7  12.835300  12.584872\n",
            "8  13.033969   9.239438\n",
            "9  11.385277   7.741223\n"
          ]
        }
      ]
    },
    {
      "cell_type": "markdown",
      "source": [
        "7.- Usando las funciones ya creadas en tu Módulo, calcular el rendimiento total (compuesto) durante todo el período de tiempo. También, calcula la media y la desviación estándar de cada Stock. Después, anualiza la desviación estándar."
      ],
      "metadata": {
        "id": "Ej-7fv3N8_2-"
      }
    },
    {
      "cell_type": "code",
      "source": [
        "rendstocks=df.pct_change().dropna()\n",
        "compuesto_stocks = (rendstocks + 1).prod() - 1\n",
        "\n",
        "# Imprimir el rendimiento compuesto\n",
        "print(\"Rendimiento compuesto:\", compuesto_stocks)\n",
        "\n",
        "media_stocks=rendstocks.mean()\n",
        "print(\"Media rendimientos:\", media_stocks)\n",
        "\n",
        "desv_stocks=rendstocks.std()\n",
        "print(\"Desviacion estandar rendimientos:\", desv_stocks)\n"
      ],
      "metadata": {
        "colab": {
          "base_uri": "https://localhost:8080/"
        },
        "id": "wV1oGNCi8lEo",
        "outputId": "34a911dc-2555-43df-ed80-b271c43e1d4d"
      },
      "execution_count": null,
      "outputs": [
        {
          "output_type": "stream",
          "name": "stdout",
          "text": [
            "Rendimiento compuesto: Stock A    0.583227\n",
            "Stock B   -0.235404\n",
            "dtype: float64\n",
            "Media rendimientos: Stock A    0.096855\n",
            "Stock B    0.004836\n",
            "dtype: float64\n",
            "Desviacion estandar rendimientos: Stock A    0.352270\n",
            "Stock B    0.284108\n",
            "dtype: float64\n"
          ]
        }
      ]
    },
    {
      "cell_type": "code",
      "source": [
        "# Anualizar la desviación estándar\n",
        "# Definir la volatilidad en términos del período original\n",
        "volatilidad_mensual = desv_stocks  # Cambiar el nombre de la variable si es necesario\n",
        "\n",
        "# Anualizar la volatilidad escalándola\n",
        "periodos_por_anio = 252  # Suponiendo que haya 12 meses en un año y los 10 datos de los stocks sean diarios\n",
        "desviacion_anual = volatilidad_mensual * math.sqrt(periodos_por_anio)\n",
        "\n",
        "# Imprimir el resultado\n",
        "print(\"Desviación estándar anualizada:\", desviacion_anual)"
      ],
      "metadata": {
        "colab": {
          "base_uri": "https://localhost:8080/"
        },
        "id": "UIx3kN8B9__k",
        "outputId": "3a1079b1-fce7-45a0-bc4f-954cef77168d"
      },
      "execution_count": null,
      "outputs": [
        {
          "output_type": "stream",
          "name": "stdout",
          "text": [
            "Desviación estándar anualizada: Stock A    5.592119\n",
            "Stock B    4.510080\n",
            "dtype: float64\n"
          ]
        }
      ]
    },
    {
      "cell_type": "markdown",
      "source": [
        "8. Crea dos activos artificiales que llamarás “AA” y “BB”, respectivamente. Supongamos que un cierto activo “AA” pierde 1% por mes durante 12 meses y un cierto activo “BB” gana 1% por mes para los 12 meses. ¿Cuál es el activo más volátil? Recuerda que la volatilidad se mide a través de la desviación estándar."
      ],
      "metadata": {
        "id": "LDeTxuIJ6g7l"
      }
    },
    {
      "cell_type": "code",
      "source": [
        "# Crear una serie de datos para el activo \"AA\" que pierde 1% al mes durante 12 meses\n",
        "rendimientos_AA = pd.Series([-0.01] * 12)\n",
        "\n",
        "# Crear una serie de datos para el activo \"BB\" que gana 1% al mes durante 12 meses\n",
        "rendimientos_BB = pd.Series([0.01] * 12)\n",
        "\n",
        "# Calcular la desviación estándar de los rendimientos de \"AA\" y \"BB\" para medir la volatilidad\n",
        "volatilidad_AA = np.std(rendimientos_AA)\n",
        "volatilidad_BB = np.std(rendimientos_BB)\n",
        "\n",
        "# Comparar la volatilidad de los activos\n",
        "if volatilidad_AA > volatilidad_BB:\n",
        "    print(\"El activo AA es más volátil.\")\n",
        "elif volatilidad_BB > volatilidad_AA:\n",
        "    print(\"El activo BB es más volátil.\")\n",
        "else:\n",
        "    print(\"Ambos activos tienen la misma volatilidad.\")"
      ],
      "metadata": {
        "id": "cZy_vLnm0mrn",
        "colab": {
          "base_uri": "https://localhost:8080/"
        },
        "outputId": "22ed7f96-9d9d-41c0-9b60-c75766821755"
      },
      "execution_count": null,
      "outputs": [
        {
          "output_type": "stream",
          "name": "stdout",
          "text": [
            "Ambos activos tienen la misma volatilidad.\n"
          ]
        }
      ]
    },
    {
      "cell_type": "markdown",
      "source": [
        "9.- Usando tu Módulo, descarga los tickers “AMZN”, “KO”, “MSFT” desde el primero de enero del 2011 hasta el primero de enero del 2019. Realiza un análisis financiero usando lo visto en clase y los incisos anteriores. Finalmente, realiza un histograma para los rendimientos de cada ticker. ¿Qué observas de los histogramas?"
      ],
      "metadata": {
        "id": "b2PdDnfJ4d4H"
      }
    },
    {
      "cell_type": "code",
      "source": [
        "# Descargar datos para los tres tickers\n",
        "amzn_asset = Asset(\"AMZN\", \"2011-01-01\", \"2019-01-01\")\n",
        "ko_asset = Asset(\"KO\", \"2011-01-01\", \"2019-01-01\")\n",
        "msft_asset = Asset(\"MSFT\", \"2011-01-01\", \"2019-01-01\")\n",
        "\n",
        "# Calcular rendimientos compuestos\n",
        "amzn_compound_return = amzn_asset.calculate_compound_return()\n",
        "ko_compound_return = ko_asset.calculate_compound_return()\n",
        "msft_compound_return = msft_asset.calculate_compound_return()\n",
        "\n",
        "# Imprimir rendimientos compuestos\n",
        "print(\"Rendimiento Compuesto de AMZN:\", amzn_compound_return)\n",
        "print(\"Rendimiento Compuesto de KO:\", ko_compound_return)\n",
        "print(\"Rendimiento Compuesto de MSFT:\", msft_compound_return)\n",
        "\n",
        "# Calcular rendimientos simples\n",
        "amzn_simple_returns = amzn_asset.simple_returns()\n",
        "ko_simple_returns = ko_asset.simple_returns()\n",
        "msft_simple_returns = msft_asset.simple_returns()\n",
        "\n",
        "# Crear un histograma para los rendimientos simples\n",
        "plt.figure(figsize=(12, 6))\n",
        "plt.hist(amzn_simple_returns, bins=50, alpha=0.5, label=\"AMZN\")\n",
        "plt.hist(ko_simple_returns, bins=50, alpha=0.5, label=\"KO\")\n",
        "plt.hist(msft_simple_returns, bins=50, alpha=0.5, label=\"MSFT\")\n",
        "plt.xlabel(\"Rendimiento Simple\")\n",
        "plt.ylabel(\"Frecuencia\")\n",
        "plt.legend()\n",
        "plt.title(\"Histograma de Rendimientos Simples\")\n",
        "plt.show()"
      ],
      "metadata": {
        "colab": {
          "base_uri": "https://localhost:8080/",
          "height": 671
        },
        "id": "_rPKuN_x5Oab",
        "outputId": "8bcedd4d-508a-40d3-e429-a73c5676f02f"
      },
      "execution_count": null,
      "outputs": [
        {
          "output_type": "stream",
          "name": "stdout",
          "text": [
            "[*********************100%%**********************]  1 of 1 completed\n",
            "[*********************100%%**********************]  1 of 1 completed\n",
            "[*********************100%%**********************]  1 of 1 completed\n",
            "Rendimiento Compuesto de AMZN: 7.1531320708926796\n",
            "Rendimiento Compuesto de KO: 0.4520085123546609\n",
            "Rendimiento Compuesto de MSFT: 2.6300929719996025\n"
          ]
        },
        {
          "output_type": "display_data",
          "data": {
            "text/plain": [
              "<Figure size 1200x600 with 1 Axes>"
            ],
            "image/png": "[encoded data removed]"
          },
          "metadata": {}
        }
      ]
    },
    {
      "cell_type": "code",
      "source": [
        "# Gráfica de la serie de tiempo para AMZN\n",
        "plt.figure(figsize=(6, 3))\n",
        "plt.plot(amzn_asset.data.index, amzn_asset.data[\"Adj Close\"], label=\"AMZN\", color='blue')\n",
        "plt.xlabel(\"Fecha\")\n",
        "plt.ylabel(\"Precio de Cierre Ajustado\")\n",
        "plt.title(\"Serie de Tiempo de AMZN\")\n",
        "plt.legend()\n",
        "plt.grid()\n",
        "plt.show()\n",
        "\n",
        "# Gráfica de la serie de tiempo para KO\n",
        "plt.figure(figsize=(6, 3))\n",
        "plt.plot(ko_asset.data.index, ko_asset.data[\"Adj Close\"], label=\"KO\", color='green')\n",
        "plt.xlabel(\"Fecha\")\n",
        "plt.ylabel(\"Precio de Cierre Ajustado\")\n",
        "plt.title(\"Serie de Tiempo de KO\")\n",
        "plt.legend()\n",
        "plt.grid()\n",
        "plt.show()\n",
        "\n",
        "# Gráfica de la serie de tiempo para MSFT\n",
        "plt.figure(figsize=(6, 3))\n",
        "plt.plot(msft_asset.data.index, msft_asset.data[\"Adj Close\"], label=\"MSFT\", color='red')\n",
        "plt.xlabel(\"Fecha\")\n",
        "plt.ylabel(\"Precio de Cierre Ajustado\")\n",
        "plt.title(\"Serie de Tiempo de MSFT\")\n",
        "plt.legend()\n",
        "plt.grid()\n",
        "plt.show()"
      ],
      "metadata": {
        "colab": {
          "base_uri": "https://localhost:8080/",
          "height": 965
        },
        "id": "LDYaFFCs6CCf",
        "outputId": "125c6f51-cced-4949-9499-74c1dcde4def"
      },
      "execution_count": null,
      "outputs": [
        {
          "output_type": "display_data",
          "data": {
            "text/plain": [
              "<Figure size 600x300 with 1 Axes>"
            ],
            "image/png": "[encoded data removed]"
          },
          "metadata": {}
        },
        {
          "output_type": "display_data",
          "data": {
            "text/plain": [
              "<Figure size 600x300 with 1 Axes>"
            ],
            "image/png": "[encoded data removed]"
          },
          "metadata": {}
        },
        {
          "output_type": "display_data",
          "data": {
            "text/plain": [
              "<Figure size 600x300 with 1 Axes>"
            ],
            "image/png": "[encoded data removed]"
          },
          "metadata": {}
        }
      ]
    },
    {
      "cell_type": "markdown",
      "source": [
        "CONCLUSIONES\n",
        "Como conlsuiones podemos ver que las tres acciones han tenido un crecimiento notable, evidenciando su importancia en sus industrias y el buen funcionamiento de estos monstruos de empresas. Amazon y MIcrosoft al ser empresas mas tecnologicas tienen mas potencial de crecimiento que Coca Cola y se ve reflejado en que tuvieron un mayor crecimiento durante este periodo. Las tres empresas tienen un crecimiento constante, Amazon es la que mas flucutaciones presenta, tomando en cuenta que es la empresa mas nueva de las tres."
      ],
      "metadata": {
        "id": "q3GK2HX06p3W"
      }
    },
    {
      "cell_type": "code",
      "source": [],
      "metadata": {
        "id": "Nae8EYFq6bsj"
      },
      "execution_count": null,
      "outputs": []
    }
  ]
}