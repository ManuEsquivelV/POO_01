{
  "nbformat": 4,
  "nbformat_minor": 0,
  "metadata": {
    "colab": {
      "provenance": []
    },
    "kernelspec": {
      "name": "python3",
      "display_name": "Python 3"
    },
    "language_info": {
      "name": "python"
    }
  },
  "cells": [
    {
      "cell_type": "markdown",
      "source": [
        "#Condicionales: if, elif, else."
      ],
      "metadata": {
        "id": "CIGCDXsLcRV7"
      }
    },
    {
      "cell_type": "code",
      "source": [
        "letra = \"A\"\n",
        "\n",
        "if letra == \"B\":\n",
        "  print(\"La letra es B\")\n",
        "elif letra == \"C\":\n",
        "  print(\"La letra es C\")\n",
        "elif letra == \"A\":\n",
        "  print(\"La letra es A\")\n",
        "else:\n",
        "  print(\"La letra no es ni A ni B ni C\")"
      ],
      "metadata": {
        "colab": {
          "base_uri": "https://localhost:8080/"
        },
        "id": "hkOYL7ORcYyj",
        "outputId": "ac1dc9a1-3e7f-4366-a9d0-52c57bed1785"
      },
      "execution_count": null,
      "outputs": [
        {
          "output_type": "stream",
          "name": "stdout",
          "text": [
            "La letra es A\n"
          ]
        }
      ]
    },
    {
      "cell_type": "markdown",
      "source": [
        "##Ejemplo 2"
      ],
      "metadata": {
        "id": "xyANjffedgC_"
      }
    },
    {
      "cell_type": "code",
      "source": [
        "# Pedir un número de al usuario\n",
        "numero = int(input(\"Escribe un número\"))"
      ],
      "metadata": {
        "id": "2fGmQ0BAdcdQ"
      },
      "execution_count": null,
      "outputs": []
    },
    {
      "cell_type": "code",
      "source": [
        "# Hacer formatos condicionales if, elif y else\n",
        "if numero % 2 == 0 and numero % 4 != 0:\n",
        "  print(f\"{numero} es múltilpo de dos\")\n",
        "elif numero % 4 == 0:\n",
        "  print(f\"{numero} es múltilpo de cuatro y dos\")\n",
        "else:\n",
        "  print(f\"{numero} no es múltilpo de dos\")"
      ],
      "metadata": {
        "colab": {
          "base_uri": "https://localhost:8080/"
        },
        "id": "dKOHWhU3eMpu",
        "outputId": "abd5d47f-36d9-4079-b3cb-2fa18ce6f589"
      },
      "execution_count": null,
      "outputs": [
        {
          "output_type": "stream",
          "name": "stdout",
          "text": [
            "8 es múltilpo de cuatro y dos\n"
          ]
        }
      ]
    },
    {
      "cell_type": "code",
      "source": [
        "# Formato condicional con doble elif\n",
        "numero = int(input(\"Escribe el número de champions que tiene tu equipo\"))\n",
        "if numero % 2 == 0 and numero % 4 != 0:\n",
        "  print(f\"{numero} es múltilpo de dos\")\n",
        "elif numero % 4 == 0:\n",
        "  print(f\"{numero} es múltilpo de cuatro y dos\")\n",
        "elif numero % 5 == 0:\n",
        "  print(f\"{numero} es múltiplo de 5\")\n",
        "else:\n",
        "  print(f\"{numero} no es múltilpo de dos ni cinco\")"
      ],
      "metadata": {
        "colab": {
          "base_uri": "https://localhost:8080/"
        },
        "id": "2sFjn7fpgxD0",
        "outputId": "0af1cd93-cd99-4a81-f17d-6b69c769225f"
      },
      "execution_count": null,
      "outputs": [
        {
          "output_type": "stream",
          "name": "stdout",
          "text": [
            "Escribe el número de champions que tiene tu equipo1\n",
            "1 no es múltilpo de dos ni cinco\n"
          ]
        }
      ]
    },
    {
      "cell_type": "markdown",
      "source": [
        "## Clases y polimorfismos"
      ],
      "metadata": {
        "id": "iHJeZU6akl5Y"
      }
    },
    {
      "cell_type": "code",
      "source": [
        "# Determinar las clases de cada uno de los elementos\n",
        "class mascota:\n",
        "  def hable(self):\n",
        "   return NotImplementedError\n",
        "class Perro(mascota):\n",
        "  def hable(self):\n",
        "    return \"Woof Woof\"\n",
        "class Gato(mascota):\n",
        " def hable(self):\n",
        "  return \"Miau Miau\"\n",
        "class Cerdo(mascota):\n",
        " def hable(self):\n",
        "  return \"Oinc Oinc\"\n",
        "class Pato(mascota):\n",
        " def hable(self):\n",
        "  return \"Cuack Cuack\"\n"
      ],
      "metadata": {
        "id": "Lkj2gqPNkrHA"
      },
      "execution_count": null,
      "outputs": []
    },
    {
      "cell_type": "code",
      "source": [
        "# Vamos a crear una lista de Mascotas\n",
        "mascotas = [Perro(), Gato(), Cerdo(), Pato()] # generador de objetos dentro de la clase"
      ],
      "metadata": {
        "id": "C_cI5ODLoGnn"
      },
      "execution_count": null,
      "outputs": []
    },
    {
      "cell_type": "code",
      "source": [
        "mascotas"
      ],
      "metadata": {
        "colab": {
          "base_uri": "https://localhost:8080/"
        },
        "id": "-7hR0JNKod1U",
        "outputId": "58ba5351-d68a-4528-9f6f-7f691329e6ff"
      },
      "execution_count": null,
      "outputs": [
        {
          "output_type": "execute_result",
          "data": {
            "text/plain": [
              "[<__main__.Perro at 0x7e0bf8237c10>,\n",
              " <__main__.Gato at 0x7e0bf8235270>,\n",
              " <__main__.Cerdo at 0x7e0bf8236fe0>,\n",
              " <__main__.Pato at 0x7e0bf8236b90>]"
            ]
          },
          "metadata": {},
          "execution_count": 22
        }
      ]
    },
    {
      "cell_type": "code",
      "source": [
        "# Perdir la acción de las clasificaciones\n",
        "for mascota in mascotas:\n",
        "  print(mascota.hable())"
      ],
      "metadata": {
        "colab": {
          "base_uri": "https://localhost:8080/"
        },
        "id": "EM04tOKApik8",
        "outputId": "1fe81301-9d68-4c6a-fdc6-a70d3dbbb8f2"
      },
      "execution_count": null,
      "outputs": [
        {
          "output_type": "stream",
          "name": "stdout",
          "text": [
            "Woof Woof\n",
            "Miau Miau\n",
            "Oinc Oinc\n",
            "Cuack Cuack\n"
          ]
        }
      ]
    },
    {
      "cell_type": "code",
      "source": [
        "class Persona:\n",
        " def __init__(self, nombre, edad):\n",
        "   self.nombre = nombre\n",
        "   self.edad = edad"
      ],
      "metadata": {
        "id": "RlRsikZyrG5y"
      },
      "execution_count": null,
      "outputs": []
    },
    {
      "cell_type": "code",
      "source": [
        "Daniela = Persona(\"Daniela\", 21)"
      ],
      "metadata": {
        "id": "aziyCTxirbG0"
      },
      "execution_count": null,
      "outputs": []
    },
    {
      "cell_type": "code",
      "source": [
        "Daniela.nombre"
      ],
      "metadata": {
        "colab": {
          "base_uri": "https://localhost:8080/",
          "height": 35
        },
        "id": "gj5O0oyqrp0p",
        "outputId": "6b964e74-8a53-4cb2-d185-2c4394b85cc0"
      },
      "execution_count": null,
      "outputs": [
        {
          "output_type": "execute_result",
          "data": {
            "text/plain": [
              "'Daniela'"
            ],
            "application/vnd.google.colaboratory.intrinsic+json": {
              "type": "string"
            }
          },
          "metadata": {},
          "execution_count": 32
        }
      ]
    },
    {
      "cell_type": "code",
      "source": [
        "Daniela.edad"
      ],
      "metadata": {
        "id": "SAsSYZbHr0bZ",
        "outputId": "d68c45da-6016-43de-d9e2-aa423ffc520a",
        "colab": {
          "base_uri": "https://localhost:8080/"
        }
      },
      "execution_count": null,
      "outputs": [
        {
          "output_type": "execute_result",
          "data": {
            "text/plain": [
              "21"
            ]
          },
          "metadata": {},
          "execution_count": 33
        }
      ]
    }
  ]
}