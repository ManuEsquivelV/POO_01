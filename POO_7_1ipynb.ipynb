{
  "nbformat": 4,
  "nbformat_minor": 0,
  "metadata": {
    "colab": {
      "provenance": []
    },
    "kernelspec": {
      "name": "python3",
      "display_name": "Python 3"
    },
    "language_info": {
      "name": "python"
    }
  },
  "cells": [
    {
      "cell_type": "markdown",
      "source": [
        "#Condicionales: if, elif, else."
      ],
      "metadata": {
        "id": "CIGCDXsLcRV7"
      }
    },
    {
      "cell_type": "code",
      "source": [
        "letra = \"A\"\n",
        "\n",
        "if letra == \"B\":\n",
        "  print(\"La letra es B\")\n",
        "elif letra == \"C\":\n",
        "  print(\"La letra es C\")\n",
        "elif letra == \"A\":\n",
        "  print(\"La letra es A\")\n",
        "else:\n",
        "  print(\"La letra no es ni A ni B ni C\")"
      ],
      "metadata": {
        "colab": {
          "base_uri": "https://localhost:8080/"
        },
        "id": "hkOYL7ORcYyj",
        "outputId": "a95ab1ca-a887-400b-e95f-b0863744a528"
      },
      "execution_count": 4,
      "outputs": [
        {
          "output_type": "stream",
          "name": "stdout",
          "text": [
            "La letra es A\n"
          ]
        }
      ]
    },
    {
      "cell_type": "markdown",
      "source": [
        "##Ejemplo 2"
      ],
      "metadata": {
        "id": "xyANjffedgC_"
      }
    },
    {
      "cell_type": "code",
      "source": [
        "# Pedir un número de al usuario\n",
        "numero = int(input(\"Escribe un número\"))"
      ],
      "metadata": {
        "id": "2fGmQ0BAdcdQ",
        "colab": {
          "base_uri": "https://localhost:8080/"
        },
        "outputId": "c36becef-3155-4621-c796-f5be6b658196"
      },
      "execution_count": 6,
      "outputs": [
        {
          "name": "stdout",
          "output_type": "stream",
          "text": [
            "Escribe un número8\n"
          ]
        }
      ]
    },
    {
      "cell_type": "code",
      "source": [
        "# Hacer formatos condicionales if, elif y else\n",
        "if numero % 2 == 0 and numero % 4 != 0:\n",
        "  print(f\"{numero} es múltilpo de dos\")\n",
        "elif numero % 4 == 0:\n",
        "  print(f\"{numero} es múltilpo de cuatro y dos\")\n",
        "else:\n",
        "  print(f\"{numero} no es múltilpo de dos\")"
      ],
      "metadata": {
        "colab": {
          "base_uri": "https://localhost:8080/"
        },
        "id": "dKOHWhU3eMpu",
        "outputId": "82c6d001-5918-4acf-fe5c-daa1a2974861"
      },
      "execution_count": 7,
      "outputs": [
        {
          "output_type": "stream",
          "name": "stdout",
          "text": [
            "8 es múltilpo de cuatro y dos\n"
          ]
        }
      ]
    },
    {
      "cell_type": "code",
      "source": [
        "# Formato condicional con doble elif\n",
        "numero = int(input(\"Escribe el número de champions que tiene tu equipo\"))\n",
        "if numero % 2 == 0 and numero % 4 != 0:\n",
        "  print(f\"{numero} es múltilpo de dos\")\n",
        "elif numero % 4 == 0:\n",
        "  print(f\"{numero} es múltilpo de cuatro y dos\")\n",
        "elif numero % 5 == 0:\n",
        "  print(f\"{numero} es múltiplo de 5\")\n",
        "else:\n",
        "  print(f\"{numero} no es múltilpo de dos ni cinco\")"
      ],
      "metadata": {
        "colab": {
          "base_uri": "https://localhost:8080/"
        },
        "id": "2sFjn7fpgxD0",
        "outputId": "ce049d51-1979-400e-9707-8b2bba5060ca"
      },
      "execution_count": 8,
      "outputs": [
        {
          "output_type": "stream",
          "name": "stdout",
          "text": [
            "Escribe el número de champions que tiene tu equipo12\n",
            "12 es múltilpo de cuatro y dos\n"
          ]
        }
      ]
    },
    {
      "cell_type": "markdown",
      "source": [
        "## Clases y polimorfismos"
      ],
      "metadata": {
        "id": "iHJeZU6akl5Y"
      }
    },
    {
      "cell_type": "code",
      "source": [
        "# Determinar las clases de cada uno de los elementos\n",
        "class mascota:\n",
        "  def hable(self):\n",
        "   return NotImplementedError\n",
        "class Perro(mascota):\n",
        "  def hable(self):\n",
        "    return \"Woof Woof\"\n",
        "class Gato(mascota):\n",
        " def hable(self):\n",
        "  return \"Miau Miau\"\n",
        "class Cerdo(mascota):\n",
        " def hable(self):\n",
        "  return \"Oinc Oinc\"\n",
        "class Pato(mascota):\n",
        " def hable(self):\n",
        "  return \"Cuack Cuack\"\n"
      ],
      "metadata": {
        "id": "Lkj2gqPNkrHA"
      },
      "execution_count": 9,
      "outputs": []
    },
    {
      "cell_type": "code",
      "source": [
        "# Vamos a crear una lista de Mascotas\n",
        "mascotas = [Perro(), Gato(), Cerdo(), Pato()] # generador de objetos dentro de la clase"
      ],
      "metadata": {
        "id": "C_cI5ODLoGnn"
      },
      "execution_count": 10,
      "outputs": []
    },
    {
      "cell_type": "code",
      "source": [
        "mascotas"
      ],
      "metadata": {
        "colab": {
          "base_uri": "https://localhost:8080/"
        },
        "id": "-7hR0JNKod1U",
        "outputId": "38ab983d-23a4-4e96-95f6-e67f17fc669c"
      },
      "execution_count": 11,
      "outputs": [
        {
          "output_type": "execute_result",
          "data": {
            "text/plain": [
              "[<__main__.Perro at 0x7f7843527880>,\n",
              " <__main__.Gato at 0x7f7843527970>,\n",
              " <__main__.Cerdo at 0x7f7843527c70>,\n",
              " <__main__.Pato at 0x7f7843527d30>]"
            ]
          },
          "metadata": {},
          "execution_count": 11
        }
      ]
    },
    {
      "cell_type": "code",
      "source": [
        "# Perdir la acción de las clasificaciones\n",
        "for mascota in mascotas:\n",
        "  print(mascota.hable())"
      ],
      "metadata": {
        "colab": {
          "base_uri": "https://localhost:8080/"
        },
        "id": "EM04tOKApik8",
        "outputId": "d3381575-d900-4bb8-df8f-65a8299c59b4"
      },
      "execution_count": 13,
      "outputs": [
        {
          "output_type": "stream",
          "name": "stdout",
          "text": [
            "Woof Woof\n",
            "Miau Miau\n",
            "Oinc Oinc\n",
            "Cuack Cuack\n"
          ]
        }
      ]
    },
    {
      "cell_type": "code",
      "source": [
        "class Persona:\n",
        " def __init__(self, nombre, edad):\n",
        "   self.nombre = nombre\n",
        "   self.edad = edad"
      ],
      "metadata": {
        "id": "RlRsikZyrG5y"
      },
      "execution_count": 12,
      "outputs": []
    },
    {
      "cell_type": "code",
      "source": [
        "Daniela = Persona(\"Daniela\", 21)"
      ],
      "metadata": {
        "id": "aziyCTxirbG0"
      },
      "execution_count": 14,
      "outputs": []
    },
    {
      "cell_type": "code",
      "source": [
        "Daniela.nombre"
      ],
      "metadata": {
        "colab": {
          "base_uri": "https://localhost:8080/",
          "height": 35
        },
        "id": "gj5O0oyqrp0p",
        "outputId": "ba7765f3-8cdc-4ded-c528-5dc7519855ef"
      },
      "execution_count": 15,
      "outputs": [
        {
          "output_type": "execute_result",
          "data": {
            "text/plain": [
              "'Daniela'"
            ],
            "application/vnd.google.colaboratory.intrinsic+json": {
              "type": "string"
            }
          },
          "metadata": {},
          "execution_count": 15
        }
      ]
    },
    {
      "cell_type": "code",
      "source": [
        "Daniela.edad"
      ],
      "metadata": {
        "id": "SAsSYZbHr0bZ",
        "outputId": "01dd5261-14ba-4521-cd25-72e98ff3e86c",
        "colab": {
          "base_uri": "https://localhost:8080/"
        }
      },
      "execution_count": 16,
      "outputs": [
        {
          "output_type": "execute_result",
          "data": {
            "text/plain": [
              "21"
            ]
          },
          "metadata": {},
          "execution_count": 16
        }
      ]
    },
    {
      "cell_type": "code",
      "source": [
        "class Animal():\n",
        "\n",
        "  def __init__(self):\n",
        "    print(\"Animal class creada\")\n",
        "\n",
        "  def guess_who(self):\n",
        "    print(\"Soy un animalito\")\n",
        "\n",
        "  def sleep(self):\n",
        "    print(\"Estoy durmiendo\")\n"
      ],
      "metadata": {
        "id": "f4j59rO6rd4z"
      },
      "execution_count": 37,
      "outputs": []
    },
    {
      "cell_type": "code",
      "source": [
        "my_animal = Animal()"
      ],
      "metadata": {
        "colab": {
          "base_uri": "https://localhost:8080/"
        },
        "id": "HdbcEOgvtVwI",
        "outputId": "a31022ec-5278-45b3-e15a-51d714f48478"
      },
      "execution_count": 39,
      "outputs": [
        {
          "output_type": "stream",
          "name": "stdout",
          "text": [
            "Animal class creada\n"
          ]
        }
      ]
    },
    {
      "cell_type": "code",
      "source": [
        "my_animal.sleep()"
      ],
      "metadata": {
        "colab": {
          "base_uri": "https://localhost:8080/"
        },
        "id": "csFZFMiZtdbP",
        "outputId": "e5c25f8f-cde7-4069-ed91-2473c291c3ee"
      },
      "execution_count": 40,
      "outputs": [
        {
          "output_type": "stream",
          "name": "stdout",
          "text": [
            "Estoy durmiendo\n"
          ]
        }
      ]
    },
    {
      "cell_type": "code",
      "source": [
        "my_animal.guess_who()"
      ],
      "metadata": {
        "colab": {
          "base_uri": "https://localhost:8080/"
        },
        "id": "80tQD69cuFeA",
        "outputId": "b5fc3d6d-9bc7-47f5-a810-582cc42cec76"
      },
      "execution_count": 41,
      "outputs": [
        {
          "output_type": "stream",
          "name": "stdout",
          "text": [
            "Soy un animalito\n"
          ]
        }
      ]
    },
    {
      "cell_type": "code",
      "source": [
        "class Cat(Animal):\n",
        "\n",
        "  def __init_(self):\n",
        "    Animal.__init__(self)\n",
        "    print(\"Cat class creada\")\n",
        "\n",
        "  def guess_who(self):\n",
        "    print(\"Soy un gatito\")\n",
        "\n",
        "  def meow(self):\n",
        "    print(\"MeowW!!\")"
      ],
      "metadata": {
        "id": "AfBj6XPdvlFF"
      },
      "execution_count": 42,
      "outputs": []
    },
    {
      "cell_type": "code",
      "source": [
        "my_cat = Cat()"
      ],
      "metadata": {
        "colab": {
          "base_uri": "https://localhost:8080/"
        },
        "id": "PiaMADLuxCkc",
        "outputId": "cc6b29b7-2a21-471b-9bc2-c2dd1ed934d7"
      },
      "execution_count": 43,
      "outputs": [
        {
          "output_type": "stream",
          "name": "stdout",
          "text": [
            "Animal class creada\n"
          ]
        }
      ]
    },
    {
      "cell_type": "code",
      "source": [
        "my_cat.guess_who()"
      ],
      "metadata": {
        "colab": {
          "base_uri": "https://localhost:8080/"
        },
        "id": "czMzcwK4xGBT",
        "outputId": "3ec96774-22ef-45b2-9b43-783e93cf0883"
      },
      "execution_count": 44,
      "outputs": [
        {
          "output_type": "stream",
          "name": "stdout",
          "text": [
            "Soy un gatito\n"
          ]
        }
      ]
    },
    {
      "cell_type": "code",
      "source": [
        "my_cat.meow()"
      ],
      "metadata": {
        "colab": {
          "base_uri": "https://localhost:8080/"
        },
        "id": "HQv2dyv9xJrk",
        "outputId": "d660c9c1-13e1-4873-f789-f4edd6b62b3b"
      },
      "execution_count": 45,
      "outputs": [
        {
          "output_type": "stream",
          "name": "stdout",
          "text": [
            "MeowW!!\n"
          ]
        }
      ]
    },
    {
      "cell_type": "code",
      "source": [
        "class Doggy():\n",
        "\n",
        "  def __init__(self,name, raza):\n",
        "    self.name = name\n",
        "\n",
        "  def speak(self):\n",
        "    return self.name + \"dice WOOF\""
      ],
      "metadata": {
        "id": "-6zz6x6gyR7K"
      },
      "execution_count": 51,
      "outputs": []
    },
    {
      "cell_type": "code",
      "source": [
        "class Catty():\n",
        "\n",
        "  def __init__(self,name,raza):\n",
        "    self.name = name\n",
        "    self.raza = raza\n",
        "\n",
        "  def speak(self):\n",
        "    return self.name + \"dice Meow\""
      ],
      "metadata": {
        "id": "j3q7s8uuymlZ"
      },
      "execution_count": 52,
      "outputs": []
    },
    {
      "cell_type": "code",
      "source": [
        "my_dog = Doggy(\"Buzz\", \"Dalmata\")\n",
        "my_cat = Catty(\"Tom\", \"Persa\")"
      ],
      "metadata": {
        "id": "SkFYkMEGzyz4"
      },
      "execution_count": 53,
      "outputs": []
    },
    {
      "cell_type": "code",
      "source": [
        "my_dog.speak()"
      ],
      "metadata": {
        "colab": {
          "base_uri": "https://localhost:8080/",
          "height": 35
        },
        "id": "lP4IzFkg0HFX",
        "outputId": "e3b8befb-79b1-4b8b-9692-81613fb59ee3"
      },
      "execution_count": 55,
      "outputs": [
        {
          "output_type": "execute_result",
          "data": {
            "text/plain": [
              "'Buzzdice WOOF'"
            ],
            "application/vnd.google.colaboratory.intrinsic+json": {
              "type": "string"
            }
          },
          "metadata": {},
          "execution_count": 55
        }
      ]
    },
    {
      "cell_type": "code",
      "source": [
        "my_cat.speak()"
      ],
      "metadata": {
        "colab": {
          "base_uri": "https://localhost:8080/",
          "height": 35
        },
        "id": "SvM3Og0_0kcP",
        "outputId": "fce6a21a-8ce5-4275-966e-a62634c1d7c7"
      },
      "execution_count": 54,
      "outputs": [
        {
          "output_type": "execute_result",
          "data": {
            "text/plain": [
              "'Tomdice Meow'"
            ],
            "application/vnd.google.colaboratory.intrinsic+json": {
              "type": "string"
            }
          },
          "metadata": {},
          "execution_count": 54
        }
      ]
    }
  ]
}